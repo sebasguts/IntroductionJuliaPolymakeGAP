{
 "cells": [
  {
   "cell_type": "markdown",
   "metadata": {},
   "source": [
    "# Introduction to GAP in Julia - Exercises"
   ]
  },
  {
   "cell_type": "code",
   "execution_count": null,
   "metadata": {},
   "outputs": [],
   "source": [
    "using GAP"
   ]
  },
  {
   "cell_type": "markdown",
   "metadata": {},
   "source": [
    "In this exercise sheet, we will explore how to work with GAP groups from Julia"
   ]
  },
  {
   "cell_type": "markdown",
   "metadata": {},
   "source": [
    "## Exercise 1: Computing Orbits\n",
    "\n",
    "We want to compute the orbits of $S_5$ operating on tuples of integers smaller or equal to 5 of length 4. Use the tuple operation and the GAP `Orbits` command."
   ]
  },
  {
   "cell_type": "code",
   "execution_count": null,
   "metadata": {},
   "outputs": [],
   "source": []
  },
  {
   "cell_type": "markdown",
   "metadata": {},
   "source": [
    "## Exercise 2: Operating on matrices\n",
    "\n",
    "Write a function `oper(mat::Array{Int64,2},perm::GAP.MPtr)` that operates on the matrix `mat` by permuting the columns"
   ]
  },
  {
   "cell_type": "code",
   "execution_count": null,
   "metadata": {},
   "outputs": [],
   "source": [
    "function oper(mat::Array{Int64,2},perm::GAP.MPtr)\n",
    "end"
   ]
  },
  {
   "cell_type": "markdown",
   "metadata": {},
   "source": [
    "Please test your output using the following data"
   ]
  },
  {
   "cell_type": "code",
   "execution_count": null,
   "metadata": {},
   "outputs": [],
   "source": [
    "perm = GAP.Globals.PermList(GAP.julia_to_gap([2,3,4,1]))\n",
    "mat = [ 1 2 3 4 ; 4 3 2 1 ]\n",
    "oper(mat,perm) == [ 4 1 2 3 ; 1 4 3 2]"
   ]
  },
  {
   "cell_type": "markdown",
   "metadata": {},
   "source": [
    "## Exercise 3: Operating on matrices\n",
    "\n",
    "Use the function `oper` to compute the orbit of the matrix `[1 2 1 2; 1 3 1 4]` under $S_4$, $A_4$, and $C_4$"
   ]
  },
  {
   "cell_type": "code",
   "execution_count": null,
   "metadata": {},
   "outputs": [],
   "source": []
  },
  {
   "cell_type": "markdown",
   "metadata": {},
   "source": [
    "## Exercise 4: Stabilizer Chain\n",
    "\n",
    "Write a function that, given a group $G$, a list of elements $l$, and an action $\\phi$, computes the stabilizer chain of that operation, i.e., a list\n",
    "$$G_{l_1} \\geq G_{l_1,l_2} \\geq ...$$"
   ]
  },
  {
   "cell_type": "code",
   "execution_count": null,
   "metadata": {},
   "outputs": [],
   "source": [
    "function stab_chain(grp, list, action)\n",
    "end"
   ]
  },
  {
   "cell_type": "markdown",
   "metadata": {},
   "source": [
    "Test your function with the following input"
   ]
  },
  {
   "cell_type": "code",
   "execution_count": null,
   "metadata": {},
   "outputs": [],
   "source": [
    "oper2(i,perm) = i^perm\n",
    "grp = GAP.Globals.SymmetricGroup(5)\n",
    "list = [1,2,3,4,5]"
   ]
  },
  {
   "cell_type": "code",
   "execution_count": null,
   "metadata": {},
   "outputs": [],
   "source": [
    "stab_chain(grp,list,oper2)"
   ]
  }
 ],
 "metadata": {
  "@webio": {
   "lastCommId": "f36dcad286d548ac8e8f12f68f2aad01",
   "lastKernelId": "a617efb5-0dc0-4255-871d-c3a308b4927f"
  },
  "kernelspec": {
   "display_name": "Julia 1.1.0",
   "language": "julia",
   "name": "julia-1.1"
  },
  "language_info": {
   "file_extension": ".jl",
   "mimetype": "application/julia",
   "name": "julia",
   "version": "1.1.0"
  }
 },
 "nbformat": 4,
 "nbformat_minor": 2
}
