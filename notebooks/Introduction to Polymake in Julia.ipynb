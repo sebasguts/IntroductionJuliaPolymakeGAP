{
 "cells": [
  {
   "cell_type": "markdown",
   "metadata": {
    "slideshow": {
     "slide_type": "slide"
    }
   },
   "source": [
    "# Lesson 3: Introduction to Polymake in Julia\n",
    "\n",
    "\n",
    "The Julia module `Polymake.jl` provides access to all Polymake big object t ypes, most small object types, and all Polymake function"
   ]
  },
  {
   "cell_type": "code",
   "execution_count": 1,
   "metadata": {
    "slideshow": {
     "slide_type": "fragment"
    }
   },
   "outputs": [
    {
     "name": "stdout",
     "output_type": "stream",
     "text": [
      "polymake version 3.3\n",
      "Copyright (c) 1997-2019\n",
      "Ewgenij Gawrilow, Michael Joswig (TU Berlin)\n",
      "https://polymake.org\n",
      "\n",
      "This is free software licensed under GPL; see the source for copying conditions.\n",
      "There is NO warranty; not even for MERCHANTABILITY or FITNESS FOR A PARTICULAR PURPOSE.\n",
      "\n"
     ]
    }
   ],
   "source": [
    "using Polymake"
   ]
  },
  {
   "cell_type": "markdown",
   "metadata": {
    "slideshow": {
     "slide_type": "fragment"
    }
   },
   "source": [
    "In this lesson we will learn how to access Polymake from Julia, and about some functionality of Polymake. For further reading, consider the [polymake documentation](https://www.polymake.org). To translate Polymake code to Julia, have a look at the [Polymake.jl README](https://github.com/oscar-system/Polymake.jl)."
   ]
  },
  {
   "cell_type": "markdown",
   "metadata": {
    "slideshow": {
     "slide_type": "slide"
    }
   },
   "source": [
    "## Creating Polymake objects"
   ]
  },
  {
   "cell_type": "markdown",
   "metadata": {
    "slideshow": {
     "slide_type": "fragment"
    }
   },
   "source": [
    "Most Polymake objects (Polytopes, Cones, Fans) are so-called \"big objects\", which are created using their Polymake \"application\", name, and input data."
   ]
  },
  {
   "cell_type": "code",
   "execution_count": 2,
   "metadata": {
    "slideshow": {
     "slide_type": "fragment"
    }
   },
   "outputs": [
    {
     "data": {
      "text/html": [
       "<details>\n",
       "<summary>Polytope<Rational></summary>\n",
       "    <pre>\n",
       "\n",
       "POINTS\n",
       "1 0 0\n",
       "1 1 0\n",
       "1 0 1\n",
       "1 1 1\n",
       "\n",
       "\n",
       "    </pre>\n",
       "</details>\n"
      ],
      "text/plain": [
       "type: Polytope<Rational>\n",
       "\n",
       "POINTS\n",
       "1 0 0\n",
       "1 1 0\n",
       "1 0 1\n",
       "1 1 1\n",
       "\n"
      ]
     },
     "execution_count": 2,
     "metadata": {},
     "output_type": "execute_result"
    }
   ],
   "source": [
    "p = @pm Polytope.Polytope( POINTS=[1 0 0; 1 1 0; 1 0 1; 1 1 1] )"
   ]
  },
  {
   "cell_type": "markdown",
   "metadata": {
    "slideshow": {
     "slide_type": "fragment"
    }
   },
   "source": [
    "Please note that Polymake input data for polytopes is homogeneous. The input of `p` can be interpreted as a square with corner points\n",
    "$$(0,0),\\ (1,0),\\ (0,1),\\ (1,1)$$"
   ]
  },
  {
   "cell_type": "markdown",
   "metadata": {
    "slideshow": {
     "slide_type": "slide"
    }
   },
   "source": [
    "We can now ask `p` about its properties"
   ]
  },
  {
   "cell_type": "code",
   "execution_count": 3,
   "metadata": {
    "slideshow": {
     "slide_type": "fragment"
    }
   },
   "outputs": [
    {
     "name": "stderr",
     "output_type": "stream",
     "text": [
      "polymake: used package cdd\n",
      "  cddlib\n",
      "  Implementation of the double description method of Motzkin et al.\n",
      "  Copyright by Komei Fukuda.\n",
      "  http://www-oldurls.inf.ethz.ch/personal/fukudak/cdd_home/\n",
      "\n"
     ]
    },
    {
     "data": {
      "text/plain": [
       "pm::Matrix<pm::Rational>\n",
       "1 0 0\n",
       "1 1 0\n",
       "1 0 1\n",
       "1 1 1\n"
      ]
     },
     "execution_count": 3,
     "metadata": {},
     "output_type": "execute_result"
    }
   ],
   "source": [
    "p.VERTICES"
   ]
  },
  {
   "cell_type": "code",
   "execution_count": 4,
   "metadata": {
    "slideshow": {
     "slide_type": "fragment"
    }
   },
   "outputs": [
    {
     "name": "stderr",
     "output_type": "stream",
     "text": [
      "polymake: used package lrs\n",
      "  Implementation of the reverse search algorithm of Avis and Fukuda.\n",
      "  Copyright by David Avis.\n",
      "  http://cgm.cs.mcgill.ca/~avis/C/lrs.html\n",
      "\n"
     ]
    },
    {
     "data": {
      "text/plain": [
       "pm::Vector<pm::Integer>\n",
       "4 4"
      ]
     },
     "execution_count": 4,
     "metadata": {},
     "output_type": "execute_result"
    }
   ],
   "source": [
    "p.F_VECTOR"
   ]
  },
  {
   "cell_type": "markdown",
   "metadata": {
    "slideshow": {
     "slide_type": "slide"
    }
   },
   "source": [
    "We can also see that Polymake big objects store their computed data"
   ]
  },
  {
   "cell_type": "code",
   "execution_count": 5,
   "metadata": {
    "slideshow": {
     "slide_type": "fragment"
    }
   },
   "outputs": [
    {
     "data": {
      "text/html": [
       "<details>\n",
       "<summary>Polytope<Rational></summary>\n",
       "    <pre>\n",
       "\n",
       "POINTS\n",
       "1 0 0\n",
       "1 1 0\n",
       "1 0 1\n",
       "1 1 1\n",
       "\n",
       "\n",
       "CONE_AMBIENT_DIM\n",
       "3\n",
       "\n",
       "FEASIBLE\n",
       "true\n",
       "\n",
       "N_POINTS\n",
       "4\n",
       "\n",
       "CONE_DIM\n",
       "3\n",
       "\n",
       "FULL_DIM\n",
       "true\n",
       "\n",
       "AFFINE_HULL\n",
       "\n",
       "\n",
       "POINTED\n",
       "true\n",
       "\n",
       "VERTICES\n",
       "1 0 0\n",
       "1 1 0\n",
       "1 0 1\n",
       "1 1 1\n",
       "\n",
       "\n",
       "LINEALITY_SPACE\n",
       "\n",
       "\n",
       "N_VERTICES\n",
       "4\n",
       "\n",
       "LINEALITY_DIM\n",
       "0\n",
       "\n",
       "COMBINATORIAL_DIM\n",
       "2\n",
       "\n",
       "FAR_FACE\n",
       "{}\n",
       "\n",
       "BOUNDED\n",
       "true\n",
       "\n",
       "N_FACETS\n",
       "4\n",
       "\n",
       "F_VECTOR\n",
       "4 4\n",
       "\n",
       "    </pre>\n",
       "</details>\n"
      ],
      "text/plain": [
       "type: Polytope<Rational>\n",
       "\n",
       "POINTS\n",
       "1 0 0\n",
       "1 1 0\n",
       "1 0 1\n",
       "1 1 1\n",
       "\n",
       "\n",
       "CONE_AMBIENT_DIM\n",
       "3\n",
       "\n",
       "FEASIBLE\n",
       "true\n",
       "\n",
       "N_POINTS\n",
       "4\n",
       "\n",
       "CONE_DIM\n",
       "3\n",
       "\n",
       "FULL_DIM\n",
       "true\n",
       "\n",
       "AFFINE_HULL\n",
       "\n",
       "\n",
       "POINTED\n",
       "true\n",
       "\n",
       "VERTICES\n",
       "1 0 0\n",
       "1 1 0\n",
       "1 0 1\n",
       "1 1 1\n",
       "\n",
       "\n",
       "LINEALITY_SPACE\n",
       "\n",
       "\n",
       "N_VERTICES\n",
       "4\n",
       "\n",
       "LINEALITY_DIM\n",
       "0\n",
       "\n",
       "COMBINATORIAL_DIM\n",
       "2\n",
       "\n",
       "FAR_FACE\n",
       "{}\n",
       "\n",
       "BOUNDED\n",
       "true\n",
       "\n",
       "N_FACETS\n",
       "4\n",
       "\n",
       "F_VECTOR\n",
       "4 4\n"
      ]
     },
     "execution_count": 5,
     "metadata": {},
     "output_type": "execute_result"
    }
   ],
   "source": [
    "p"
   ]
  },
  {
   "cell_type": "markdown",
   "metadata": {
    "slideshow": {
     "slide_type": "slide"
    }
   },
   "source": [
    "## Working with small objects\n",
    "\n",
    "Objects like vectors and matrices are called \"small objects\" in Polymake. They can be converted to and from Julia, but also behave like their proper Julia counterparts."
   ]
  },
  {
   "cell_type": "code",
   "execution_count": 6,
   "metadata": {
    "slideshow": {
     "slide_type": "fragment"
    }
   },
   "outputs": [
    {
     "data": {
      "text/plain": [
       "pm::Matrix<pm::Rational>\n",
       "1 0 0\n",
       "1 1 0\n",
       "1 0 1\n",
       "1 1 1\n"
      ]
     },
     "execution_count": 6,
     "metadata": {},
     "output_type": "execute_result"
    }
   ],
   "source": [
    "v = p.VERTICES"
   ]
  },
  {
   "cell_type": "code",
   "execution_count": 7,
   "metadata": {
    "slideshow": {
     "slide_type": "fragment"
    }
   },
   "outputs": [
    {
     "data": {
      "text/plain": [
       "4×3 Array{Rational{BigInt},2}:\n",
       " 1//1  0//1  0//1\n",
       " 1//1  1//1  0//1\n",
       " 1//1  0//1  1//1\n",
       " 1//1  1//1  1//1"
      ]
     },
     "execution_count": 7,
     "metadata": {},
     "output_type": "execute_result"
    }
   ],
   "source": [
    "convert(Array{Rational{BigInt},2},v)"
   ]
  },
  {
   "cell_type": "markdown",
   "metadata": {
    "slideshow": {
     "slide_type": "slide"
    }
   },
   "source": [
    "We can also convert Julia matrices into Polymake matrices"
   ]
  },
  {
   "cell_type": "code",
   "execution_count": 8,
   "metadata": {},
   "outputs": [
    {
     "data": {
      "text/plain": [
       "pm::Matrix<pm::Integer>\n",
       "1 2\n",
       "3 4\n"
      ]
     },
     "execution_count": 8,
     "metadata": {},
     "output_type": "execute_result"
    }
   ],
   "source": [
    "pm_Matrix([1 2; 3 4])"
   ]
  },
  {
   "cell_type": "markdown",
   "metadata": {
    "slideshow": {
     "slide_type": "fragment"
    }
   },
   "source": [
    "Note that the big object constructor automatically does that for you."
   ]
  },
  {
   "cell_type": "markdown",
   "metadata": {
    "slideshow": {
     "slide_type": "slide"
    }
   },
   "source": [
    "## Working with functions\n",
    "\n",
    "Polymake functions and methods are called using their application"
   ]
  },
  {
   "cell_type": "code",
   "execution_count": 9,
   "metadata": {},
   "outputs": [
    {
     "data": {
      "text/html": [
       "<details>\n",
       "<summary>Polytope<Rational></summary>\n",
       "    <pre>\n",
       "cube of dimension 3\n",
       "\n",
       "\n",
       "CONE_AMBIENT_DIM\n",
       "4\n",
       "\n",
       "CONE_DIM\n",
       "4\n",
       "\n",
       "FACETS\n",
       "1 1 0 0\n",
       "1 -1 0 0\n",
       "1 0 1 0\n",
       "1 0 -1 0\n",
       "1 0 0 1\n",
       "1 0 0 -1\n",
       "\n",
       "\n",
       "AFFINE_HULL\n",
       "\n",
       "\n",
       "VERTICES_IN_FACETS\n",
       "{0 2 4 6}\n",
       "{1 3 5 7}\n",
       "{0 1 4 5}\n",
       "{2 3 6 7}\n",
       "{0 1 2 3}\n",
       "{4 5 6 7}\n",
       "\n",
       "\n",
       "BOUNDED\n",
       "true\n",
       "\n",
       "    </pre>\n",
       "</details>\n"
      ],
      "text/plain": [
       "type: Polytope<Rational>\n",
       "description: cube of dimension 3\n",
       "\n",
       "\n",
       "CONE_AMBIENT_DIM\n",
       "4\n",
       "\n",
       "CONE_DIM\n",
       "4\n",
       "\n",
       "FACETS\n",
       "1 1 0 0\n",
       "1 -1 0 0\n",
       "1 0 1 0\n",
       "1 0 -1 0\n",
       "1 0 0 1\n",
       "1 0 0 -1\n",
       "\n",
       "\n",
       "AFFINE_HULL\n",
       "\n",
       "\n",
       "VERTICES_IN_FACETS\n",
       "{0 2 4 6}\n",
       "{1 3 5 7}\n",
       "{0 1 4 5}\n",
       "{2 3 6 7}\n",
       "{0 1 2 3}\n",
       "{4 5 6 7}\n",
       "\n",
       "\n",
       "BOUNDED\n",
       "true\n"
      ]
     },
     "execution_count": 9,
     "metadata": {},
     "output_type": "execute_result"
    }
   ],
   "source": [
    "c = Polytope.cube(3)"
   ]
  },
  {
   "cell_type": "code",
   "execution_count": 10,
   "metadata": {},
   "outputs": [
    {
     "data": {
      "text/html": [
       "<details>\n",
       "<summary>Polytope<Rational></summary>\n",
       "    <pre>\n",
       "Minkowski sum of 1* and 1*\n",
       "\n",
       "POINTS\n",
       "1 -2 -2 -2\n",
       "1 0 -2 -2\n",
       "1 -2 0 -2\n",
       "1 0 0 -2\n",
       "1 -2 -2 0\n",
       "1 0 -2 0\n",
       "1 -2 0 0\n",
       "1 0 0 0\n",
       "1 0 -2 -2\n",
       "1 2 -2 -2\n",
       "1 0 0 -2\n",
       "1 2 0 -2\n",
       "1 0 -2 0\n",
       "1 2 -2 0\n",
       "1 0 0 0\n",
       "1 2 0 0\n",
       "1 -2 0 -2\n",
       "1 0 0 -2\n",
       "1 -2 2 -2\n",
       "1 0 2 -2\n",
       "1 -2 0 0\n",
       "1 0 0 0\n",
       "1 -2 2 0\n",
       "1 0 2 0\n",
       "1 0 0 -2\n",
       "1 2 0 -2\n",
       "1 0 2 -2\n",
       "1 2 2 -2\n",
       "1 0 0 0\n",
       "1 2 0 0\n",
       "1 0 2 0\n",
       "1 2 2 0\n",
       "1 -2 -2 0\n",
       "1 0 -2 0\n",
       "1 -2 0 0\n",
       "1 0 0 0\n",
       "1 -2 -2 2\n",
       "1 0 -2 2\n",
       "1 -2 0 2\n",
       "1 0 0 2\n",
       "1 0 -2 0\n",
       "1 2 -2 0\n",
       "1 0 0 0\n",
       "1 2 0 0\n",
       "1 0 -2 2\n",
       "1 2 -2 2\n",
       "1 0 0 2\n",
       "1 2 0 2\n",
       "1 -2 0 0\n",
       "1 0 0 0\n",
       "1 -2 2 0\n",
       "1 0 2 0\n",
       "1 -2 0 2\n",
       "1 0 0 2\n",
       "1 -2 2 2\n",
       "1 0 2 2\n",
       "1 0 0 0\n",
       "1 2 0 0\n",
       "1 0 2 0\n",
       "1 2 2 0\n",
       "1 0 0 2\n",
       "1 2 0 2\n",
       "1 0 2 2\n",
       "1 2 2 2\n",
       "\n",
       "\n",
       "INPUT_LINEALITY\n",
       "\n",
       "\n",
       "CONE_AMBIENT_DIM\n",
       "4\n",
       "\n",
       "    </pre>\n",
       "</details>\n"
      ],
      "text/plain": [
       "type: Polytope<Rational>\n",
       "description: Minkowski sum of 1* and 1*\n",
       "\n",
       "POINTS\n",
       "1 -2 -2 -2\n",
       "1 0 -2 -2\n",
       "1 -2 0 -2\n",
       "1 0 0 -2\n",
       "1 -2 -2 0\n",
       "1 0 -2 0\n",
       "1 -2 0 0\n",
       "1 0 0 0\n",
       "1 0 -2 -2\n",
       "1 2 -2 -2\n",
       "1 0 0 -2\n",
       "1 2 0 -2\n",
       "1 0 -2 0\n",
       "1 2 -2 0\n",
       "1 0 0 0\n",
       "1 2 0 0\n",
       "1 -2 0 -2\n",
       "1 0 0 -2\n",
       "1 -2 2 -2\n",
       "1 0 2 -2\n",
       "1 -2 0 0\n",
       "1 0 0 0\n",
       "1 -2 2 0\n",
       "1 0 2 0\n",
       "1 0 0 -2\n",
       "1 2 0 -2\n",
       "1 0 2 -2\n",
       "1 2 2 -2\n",
       "1 0 0 0\n",
       "1 2 0 0\n",
       "1 0 2 0\n",
       "1 2 2 0\n",
       "1 -2 -2 0\n",
       "1 0 -2 0\n",
       "1 -2 0 0\n",
       "1 0 0 0\n",
       "1 -2 -2 2\n",
       "1 0 -2 2\n",
       "1 -2 0 2\n",
       "1 0 0 2\n",
       "1 0 -2 0\n",
       "1 2 -2 0\n",
       "1 0 0 0\n",
       "1 2 0 0\n",
       "1 0 -2 2\n",
       "1 2 -2 2\n",
       "1 0 0 2\n",
       "1 2 0 2\n",
       "1 -2 0 0\n",
       "1 0 0 0\n",
       "1 -2 2 0\n",
       "1 0 2 0\n",
       "1 -2 0 2\n",
       "1 0 0 2\n",
       "1 -2 2 2\n",
       "1 0 2 2\n",
       "1 0 0 0\n",
       "1 2 0 0\n",
       "1 0 2 0\n",
       "1 2 2 0\n",
       "1 0 0 2\n",
       "1 2 0 2\n",
       "1 0 2 2\n",
       "1 2 2 2\n",
       "\n",
       "\n",
       "INPUT_LINEALITY\n",
       "\n",
       "\n",
       "CONE_AMBIENT_DIM\n",
       "4\n"
      ]
     },
     "execution_count": 10,
     "metadata": {},
     "output_type": "execute_result"
    }
   ],
   "source": [
    "cxc = Polytope.minkowski_sum(c,c)"
   ]
  },
  {
   "cell_type": "markdown",
   "metadata": {
    "slideshow": {
     "slide_type": "slide"
    }
   },
   "source": [
    "It is also possible to visualize polytopes in the notebook:"
   ]
  },
  {
   "cell_type": "code",
   "execution_count": 11,
   "metadata": {},
   "outputs": [
    {
     "data": {
      "text/html": [
       "<!--\n",
       "polymake for sebastian\n",
       "Sat Apr 13 14:52:08 2019\n",
       "unnamed\n",
       "-->\n",
       "\n",
       "\n",
       "<html>\n",
       "   <head>\n",
       "      <title>unnamed</title>\n",
       "      <style>\n",
       "/*\n",
       "// COMMON_CODE_BLOCK_BEGIN\n",
       "*/\n",
       "         html{overflow: scroll;}\n",
       "         body { font-family: Arial, Helvetica, sans-serif}\n",
       "         strong{font-size: 18px;}\n",
       "         canvas { z-index: 8; }\n",
       "         input[type='range'] {}\n",
       "         input[type='radio'] {margin-left:0;}\n",
       "         input[type='checkbox'] {margin-right:7px; margin-left: 0px; padding-left:0px;}\n",
       "         .group{padding-bottom: 40px;}\n",
       "         .settings * {z-index: 11; }\n",
       "         .settings{z-index: 10; margin-left: 30px; display: none; width: 14em; height: 90%; border: solid 1px silver; padding: 2px; overflow-y: scroll; background-color: white }\n",
       "         .indented{margin-left: 20px; margin-top: 15px; padding-bottom: 0px;} \n",
       "         .shownObjectsList{overflow: auto; max-width: 150px; max-height: 150px;}\n",
       "         .showSettingsButton{display: block; z-index: 12; position: absolute }\n",
       "         .hideSettingsButton{display: none; z-index: 12; position: absolute; opacity: 0.5}\n",
       "         .resetButton{margin-top: 20px;}\n",
       "         button{margin-left: 0;}\n",
       "         img{cursor: pointer;}\n",
       "         .suboption{padding-top: 30px;}\n",
       "         .transparency{display: none;}\n",
       "         .labelsCheckbox{margin-top: 10px;}\n",
       "\n",
       "\n",
       "         input[type=range] {\n",
       "           -webkit-appearance: none;\n",
       "           padding:0; \n",
       "           width:90%; \n",
       "           margin-left: auto;\n",
       "           margin-right: auto;\n",
       "           margin-top: 20px;\n",
       "           display: block;\t\n",
       "         }\n",
       "         input[type=range]:focus {\n",
       "           outline: none;\n",
       "         }\n",
       "         input[type=range]::-webkit-slider-runnable-track {\n",
       "           height: 4px;\n",
       "           cursor: pointer;\n",
       "           animate: 0.2s;\n",
       "           box-shadow: 0px 0px 0px #000000;\n",
       "           background: #E3E3E3;\n",
       "           border-radius: 0px;\n",
       "           border: 0px solid #000000;\n",
       "         }\n",
       "         input[type=range]::-webkit-slider-thumb {\n",
       "           box-shadow: 1px 1px 2px #B8B8B8;\n",
       "           border: 1px solid #ABABAB;\n",
       "           height: 13px;\n",
       "           width: 25px;\n",
       "           border-radius: 20px;\n",
       "           background: #E0E0E0;\n",
       "           cursor: pointer;\n",
       "           -webkit-appearance: none;\n",
       "           margin-top: -5px;\n",
       "         }\n",
       "         input[type=range]:focus::-webkit-slider-runnable-track {\n",
       "           background: #E3E3E3;\n",
       "         }\n",
       "         input[type=range]::-moz-range-track {\n",
       "           height: 4px;\n",
       "           cursor: pointer;\n",
       "           animate: 0.2s;\n",
       "           box-shadow: 0px 0px 0px #000000;\n",
       "           background: #E3E3E3;\n",
       "           border-radius: 0px;\n",
       "           border: 0px solid #000000;\n",
       "         }\n",
       "         input[type=range]::-moz-range-thumb {\n",
       "           box-shadow: 1px 1px 2px #B8B8B8;\n",
       "           border: 1px solid #ABABAB;\n",
       "           height: 13px;\n",
       "           width: 25px;\n",
       "           border-radius: 20px;\n",
       "           background: #E0E0E0;\n",
       "           cursor: pointer;\n",
       "         }\n",
       "         input[type=range]::-ms-track {\n",
       "           height: 4px;\n",
       "           cursor: pointer;\n",
       "           animate: 0.2s;\n",
       "           background: transparent;\n",
       "           border-color: transparent;\n",
       "           color: transparent;\n",
       "         }\n",
       "         input[type=range]::-ms-fill-lower {\n",
       "           background: #E3E3E3;\n",
       "           border: 0px solid #000000;\n",
       "           border-radius: 0px;\n",
       "           box-shadow: 0px 0px 0px #000000;\n",
       "         }\n",
       "         input[type=range]::-ms-fill-upper {\n",
       "           background: #E3E3E3;\n",
       "           border: 0px solid #000000;\n",
       "           border-radius: 0px;\n",
       "           box-shadow: 0px 0px 0px #000000;\n",
       "         }\n",
       "         input[type=range]::-ms-thumb {\n",
       "           box-shadow: 1px 1px 2px #B8B8B8;\n",
       "           border: 1px solid #ABABAB;\n",
       "           height: 13px;\n",
       "           width: 25px;\n",
       "           border-radius: 20px;\n",
       "           background: #E0E0E0;\n",
       "           cursor: pointer;\n",
       "         }\n",
       "         input[type=range]:focus::-ms-fill-lower {\n",
       "           background: #E3E3E3;\n",
       "         }\n",
       "         input[type=range]:focus::-ms-fill-upper {\n",
       "           background: #E3E3E3;\n",
       "         }\n",
       "/*\n",
       "// COMMON_CODE_BLOCK_END\n",
       "*/\n",
       "\t\t</style>\n",
       "   </head>\n",
       "\n",
       "<body>\n",
       "\n",
       "\t\t<div id='settings_0' class='settings'>\n",
       "\t\t\t<div class=group id='transparency_0' class='transparency'>\n",
       "\t\t\t\t<strong>Transparency</strong>\n",
       "\t\t\t\t<input id='transparencyRange_0' type='range' min=0 max=1 step=0.01 value=0>\n",
       "\t\t\t</div>\n",
       "\t\t\t\n",
       "\t\t\t<div class=group id='rotation_0'>\n",
       "\t\t\t\t<strong>Rotation</strong>\n",
       "\t\t\t\t<div class=indented>\n",
       "\t\t\t\t\t<div><input type='checkbox' id='changeRotationX_0'> x-axis</div>\n",
       "\t\t\t\t\t<div><input type='checkbox' id='changeRotationY_0'> y-axis</div>\n",
       "\t\t\t\t\t<div><input type='checkbox' id='changeRotationZ_0'> z-axis</div>\n",
       "\t\t\t\t\t<button id='resetButton_0' class='resetButton' >Reset</button>\n",
       "\t\t\t\t</div>\n",
       "\n",
       "\t\t\t\t<div class=suboption>Rotation speed</div>\n",
       "\t\t\t\t<input id='rotationSpeedRange_0' type='range' min=0 max=5 step=0.01 value=2>\n",
       "\n",
       "\t\t\t</div>\n",
       "\n",
       "\n",
       "\t\t\t<div class=group id='display_0'>\n",
       "\t\t\t\t<strong>Display</strong>\n",
       "\t\t\t\t<div class=indented>\n",
       "\t\t\t\t\t<div id='shownObjectsList_0' class='shownObjectsList'></div>\n",
       "\t\t\t\t\t<div class='labelsCheckbox'><input type='checkbox' id='labelsCheckboxInput_0' checked>Labels</div>\n",
       "\t\t\t\t</div>\n",
       "\t\t\t</div>\n",
       "\n",
       "\n",
       "\t\t\t<div class=group id='svg_0'>\n",
       "\t\t\t\t<strong>SVG</strong>\n",
       "\t\t\t\t<div class=indented>\n",
       "\t\t\t\t\t<form>\n",
       "\t\t\t\t\t\t<input type=\"radio\" name='screenshotMode' value='download' id='download_0' checked> Download<br>\n",
       "\t\t\t\t\t\t<input type=\"radio\" name='screenshotMode' value='tab' id='tab_0' > New tab<br>\n",
       "\t\t\t\t\t</form>\n",
       "\t\t\t\t\t<button id='takeScreenshot_0'>Screenshot</button>\n",
       "\t\t\t\t</div>\n",
       "\t\t\t</div>\n",
       "\n",
       "\t\t</div>\t<!-- end of settings -->\n",
       "\t\t<img id='hideSettingsButton_0' style=\"display: none\" class='hideSettingsButton' src='/kernelspecs/julia-1.1/close.svg' width=20px\">\n",
       "\t\t<img id='showSettingsButton_0' class='showSettingsButton' src='/kernelspecs/julia-1.1/menu.svg' width=20px\">\n",
       "<div id=\"model50077785558\"></div>\n",
       "\n",
       "<script>\n",
       "requirejs.config({\n",
       "  paths: {\n",
       "    three: '/kernelspecs/julia-1.1/three',\n",
       "    Detector: '/kernelspecs/julia-1.1/Detector',\n",
       "    SVGRenderer: '/kernelspecs/julia-1.1/SVGRenderer',\n",
       "    CanvasRenderer: '/kernelspecs/julia-1.1/CanvasRenderer',\n",
       "    Projector: '/kernelspecs/julia-1.1/Projector',\n",
       "    TrackballControls: '/kernelspecs/julia-1.1/TrackballControls'\n",
       "  },\n",
       "  shim: {\n",
       "    'three':\n",
       "    {\n",
       "      exports: 'THREE'\n",
       "    },\n",
       "    'Detector':\n",
       "    {\n",
       "      deps: [ 'three' ],\n",
       "      exports: 'Detector'\n",
       "    },\n",
       "    'SVGRenderer':\n",
       "    {\n",
       "      deps: [ 'three' ],\n",
       "      exports: 'THREE.SVGRenderer'\n",
       "    },\n",
       "    'CanvasRenderer':\n",
       "    {\n",
       "      deps: [ 'three' ],\n",
       "      exports: 'THREE.CanvasRenderer'\n",
       "    },\n",
       "    'Projector':\n",
       "    {\n",
       "      deps: [ 'three' ],\n",
       "      exports: 'THREE.Projector'\n",
       "    },\n",
       "    'TrackballControls':\n",
       "    {\n",
       "      deps: [ 'three' ],\n",
       "      exports: 'THREE.TrackballControls'\n",
       "    }\n",
       "  }\n",
       "});\n",
       "require(['three'],function(THREE){\n",
       "    window.THREE = THREE;\n",
       "  require(['Detector','SVGRenderer','CanvasRenderer','Projector','TrackballControls'],function(Detector,SVGRenderer,CanvasRenderer,Projector,TrackballControls){\n",
       "      THREE.SVGRenderer = SVGRenderer;\n",
       "      THREE.CanvasRenderer = CanvasRenderer;\n",
       "      THREE.Projector = Projector;\n",
       "      THREE.TrackballControls = TrackballControls;\n",
       "\n",
       "// COMMON_CODE_BLOCK_BEGIN\n",
       "\tvar foldable = false;\n",
       "   var container = document.getElementById( 'model50077785558' );\n",
       "   var renderer = Detector.webgl? new THREE.WebGLRenderer({antialias: true}): new THREE.CanvasRenderer({antialias: true});\n",
       "\tvar svgRenderer = new THREE.SVGRenderer({antialias: true});\n",
       "            var box = document.getElementsByClassName( 'output_subarea' )[0];\n",
       "         var notebook = document.getElementById( 'notebook_panel' );\n",
       "\n",
       "   var width = box.clientWidth - 25;\n",
       "   var height = notebook.clientHeight * 0.8;\n",
       "   renderer.setSize(width, height);\n",
       "   svgRenderer.setSize(width, height);\n",
       "   renderer.setClearColor(0xFFFFFF, 1);\n",
       "   svgRenderer.setClearColor(0xFFFFFF, 1);\n",
       "\n",
       "   container.appendChild(renderer.domElement);\n",
       "\n",
       "   var scene = new THREE.Scene();\n",
       "   var camera = new THREE.PerspectiveCamera(75, width/height, 0.1, 1000);\n",
       "\n",
       "   var renderid;\n",
       "\n",
       "   camera.position.set(0, 0, 5);\n",
       "   camera.lookAt(0, 0, 0);\n",
       "   camera.up.set(0, 1, 0);\n",
       "\n",
       "   // class to allow move points together with labels and spheres\n",
       "   var PMPoint = function (x,y,z) {\n",
       "      this.vector = new THREE.Vector3(x,y,z);\n",
       "      this.sprite = null;\n",
       "      this.sphere = null;\n",
       "   }\n",
       "   PMPoint.prototype.makelabel = function(label) {\n",
       "      this.sprite = textSprite( label );\n",
       "      this.sprite.position.copy(this.vector);\n",
       "   }\n",
       "   PMPoint.prototype.makesphere = function(radius,material) {\n",
       "      this.sphere = new THREE.Mesh(new THREE.SphereGeometry(radius), material);\n",
       "      this.sphere.position.copy(this.vector);\n",
       "   }\n",
       "\n",
       "   PMPoint.prototype.setX = function(x) {\n",
       "      this.vector.setX(x);\n",
       "      if (this.sprite) {\n",
       "         this.sprite.position.setX(x);\n",
       "      }\n",
       "      if (this.sphere) {\n",
       "         this.sphere.position.setX(x);\n",
       "      }\n",
       "   };\n",
       "   PMPoint.prototype.setY = function(y) {\n",
       "      this.vector.setY(y);\n",
       "      if (this.sprite) {\n",
       "         this.sprite.position.setY(y);\n",
       "      }\n",
       "      if (this.sphere) {\n",
       "         this.sphere.position.setY(y);\n",
       "      }\n",
       "   };\n",
       "   PMPoint.prototype.setZ = function(z) {\n",
       "      this.vector.setZ(z);\n",
       "      if (this.sprite) {\n",
       "         this.sprite.position.setZ(z);\n",
       "      }\n",
       "      if (this.sphere) {\n",
       "         this.sphere.position.setZ(z);\n",
       "      }\n",
       "   };\n",
       "   PMPoint.prototype.set = function(x,y,z) {\n",
       "      this.vector.set(x,y,z);\n",
       "      if (this.sprite) {\n",
       "         this.sprite.position.set(x,y,z);\n",
       "      }\n",
       "      if (this.sphere) {\n",
       "         this.sphere.position.set(x,y,z);\n",
       "      }\n",
       "   };\n",
       "   PMPoint.prototype.add = function(o) {\n",
       "      if (this.sprite) {\n",
       "         o.add(this.sprite);\n",
       "      }\n",
       "      if (this.sphere) {\n",
       "         o.add(this.sphere);\n",
       "      }\n",
       "   };\n",
       "\n",
       "\n",
       "   var controls = new THREE.TrackballControls(camera, container);\n",
       "\tcontrols.zoomSpeed = 0.2;\n",
       "\tcontrols.rotateSpeed = 4;\n",
       "\n",
       "   var all_objects = [];\n",
       "   var centroids = [];\n",
       "   // select the target node\n",
       "   var target = document.querySelector('#model50077785558');\n",
       "\n",
       "   // create an observer instance\n",
       "   var observer = new MutationObserver(function(mutations) {\n",
       "      mutations.forEach(function(mutation) {\n",
       "         if (mutation.removedNodes && mutation.removedNodes.length > 0) {\n",
       "            cancelAnimationFrame(renderId);\n",
       "            observer.disconnect();\n",
       "            console.log(\"cancelled frame \"+renderId);\n",
       "         }\n",
       "      });\n",
       "   });\n",
       "\n",
       "   // configuration of the observer:\n",
       "   var config = { childList: true, characterData: true }\n",
       "\n",
       "   // pass in the target node, as well as the observer options\n",
       "   while (target) {\n",
       "      if (target.className==\"output\") {\n",
       "         observer.observe(target, config);\n",
       "         break;\n",
       "      }\n",
       "      target = target.parentNode;\n",
       "   }\n",
       "\n",
       "// COMMON_CODE_BLOCK_END\n",
       "\n",
       "   var objectnames = [\"unnamed__1\"];\n",
       "   var obj = new THREE.Object3D();\n",
       "   var allpoints = [];\n",
       "   allpoints.push(new PMPoint(-1, -1, -1));\n",
       "   allpoints.push(new PMPoint(1, -1, -1));\n",
       "   allpoints.push(new PMPoint(-1, 1, -1));\n",
       "   allpoints.push(new PMPoint(1, 1, -1));\n",
       "   allpoints.push(new PMPoint(-1, -1, 1));\n",
       "   allpoints.push(new PMPoint(1, -1, 1));\n",
       "   allpoints.push(new PMPoint(-1, 1, 1));\n",
       "   allpoints.push(new PMPoint(1, 1, 1));\n",
       "\n",
       "   <!-- Vertex style -->\n",
       "   var points_material = new THREE.MeshBasicMaterial ( {color: 0xFF0000, } );\n",
       "\n",
       "   points_material.side = THREE.DoubleSide;\n",
       "   points_material.transparent = true;\n",
       "\n",
       "   <!-- POINTS -->\n",
       "   allpoints[0].makesphere(0.02,points_material);\n",
       "   allpoints[1].makesphere(0.02,points_material);\n",
       "   allpoints[2].makesphere(0.02,points_material);\n",
       "   allpoints[3].makesphere(0.02,points_material);\n",
       "   allpoints[4].makesphere(0.02,points_material);\n",
       "   allpoints[5].makesphere(0.02,points_material);\n",
       "   allpoints[6].makesphere(0.02,points_material);\n",
       "   allpoints[7].makesphere(0.02,points_material);\n",
       "   allpoints[0].makelabel(\"0\");\n",
       "   allpoints[1].makelabel(\"1\");\n",
       "   allpoints[2].makelabel(\"2\");\n",
       "   allpoints[3].makelabel(\"3\");\n",
       "   allpoints[4].makelabel(\"4\");\n",
       "   allpoints[5].makelabel(\"5\");\n",
       "   allpoints[6].makelabel(\"6\");\n",
       "   allpoints[7].makelabel(\"7\");\n",
       "\n",
       "   for (index = 0; index < allpoints.length; ++index) {\n",
       "      allpoints[index].add(obj);\n",
       "   }\n",
       "   var faces = new THREE.Geometry();\n",
       "\n",
       "   <!-- VERTICES -->\n",
       "   faces.vertices.push(allpoints[0].vector);\n",
       "   faces.vertices.push(allpoints[1].vector);\n",
       "   faces.vertices.push(allpoints[2].vector);\n",
       "   faces.vertices.push(allpoints[3].vector);\n",
       "   faces.vertices.push(allpoints[4].vector);\n",
       "   faces.vertices.push(allpoints[5].vector);\n",
       "   faces.vertices.push(allpoints[6].vector);\n",
       "   faces.vertices.push(allpoints[7].vector);\n",
       "\n",
       "   centroids.push(computeCentroid(faces));\n",
       "\n",
       "   <!-- Facet style -->\n",
       "   var faces_material = new THREE.MeshBasicMaterial ( {color: 0x77EC9E, transparent: true, opacity: 1, side: THREE.DoubleSide , depthWrite: true, depthTest: true, } );\n",
       "\n",
       "   faces_material.side = THREE.DoubleSide;\n",
       "   faces_material.transparent = true;\n",
       "\n",
       "   <!-- FACETS --> \n",
       "   faces.faces.push(new THREE.Face3(0, 4, 6, undefined, undefined, 0));\n",
       "   faces.faces.push(new THREE.Face3(0, 6, 2, undefined, undefined, 0));\n",
       "\n",
       "   faces.faces.push(new THREE.Face3(7, 5, 1, undefined, undefined, 0));\n",
       "   faces.faces.push(new THREE.Face3(7, 1, 3, undefined, undefined, 0));\n",
       "\n",
       "   faces.faces.push(new THREE.Face3(5, 4, 0, undefined, undefined, 0));\n",
       "   faces.faces.push(new THREE.Face3(5, 0, 1, undefined, undefined, 0));\n",
       "\n",
       "   faces.faces.push(new THREE.Face3(2, 6, 7, undefined, undefined, 0));\n",
       "   faces.faces.push(new THREE.Face3(2, 7, 3, undefined, undefined, 0));\n",
       "\n",
       "   faces.faces.push(new THREE.Face3(0, 2, 3, undefined, undefined, 0));\n",
       "   faces.faces.push(new THREE.Face3(0, 3, 1, undefined, undefined, 0));\n",
       "\n",
       "   faces.faces.push(new THREE.Face3(6, 4, 5, undefined, undefined, 0));\n",
       "   faces.faces.push(new THREE.Face3(6, 5, 7, undefined, undefined, 0));\n",
       "\n",
       "\n",
       "   faces.computeFaceNormals();\n",
       "   faces.computeVertexNormals();\n",
       "\n",
       "   var object = new THREE.Mesh(faces, faces_material);\n",
       "   obj.add(object);\n",
       "\n",
       "   <!-- Edge style -->\n",
       "   var line_material = new THREE.LineBasicMaterial ( {color: 0x000000, linewidth: 1.5, } );\n",
       "\n",
       "   line_material.side = THREE.DoubleSide;\n",
       "   line_material.transparent = true;\n",
       "\n",
       "   <!-- EDGES --> \n",
       "   var line = new THREE.Geometry();\n",
       "   line.vertices.push(allpoints[0].vector);\n",
       "   line.vertices.push(allpoints[4].vector);\n",
       "   line.vertices.push(allpoints[6].vector);\n",
       "   line.vertices.push(allpoints[2].vector);\n",
       "   line.vertices.push(allpoints[0].vector);\n",
       "   obj.add(new THREE.Line(line, line_material));\n",
       "\n",
       "   var line = new THREE.Geometry();\n",
       "   line.vertices.push(allpoints[7].vector);\n",
       "   line.vertices.push(allpoints[5].vector);\n",
       "   line.vertices.push(allpoints[1].vector);\n",
       "   line.vertices.push(allpoints[3].vector);\n",
       "   line.vertices.push(allpoints[7].vector);\n",
       "   obj.add(new THREE.Line(line, line_material));\n",
       "\n",
       "   var line = new THREE.Geometry();\n",
       "   line.vertices.push(allpoints[5].vector);\n",
       "   line.vertices.push(allpoints[4].vector);\n",
       "   line.vertices.push(allpoints[0].vector);\n",
       "   line.vertices.push(allpoints[1].vector);\n",
       "   line.vertices.push(allpoints[5].vector);\n",
       "   obj.add(new THREE.Line(line, line_material));\n",
       "\n",
       "   var line = new THREE.Geometry();\n",
       "   line.vertices.push(allpoints[2].vector);\n",
       "   line.vertices.push(allpoints[6].vector);\n",
       "   line.vertices.push(allpoints[7].vector);\n",
       "   line.vertices.push(allpoints[3].vector);\n",
       "   line.vertices.push(allpoints[2].vector);\n",
       "   obj.add(new THREE.Line(line, line_material));\n",
       "\n",
       "   var line = new THREE.Geometry();\n",
       "   line.vertices.push(allpoints[0].vector);\n",
       "   line.vertices.push(allpoints[2].vector);\n",
       "   line.vertices.push(allpoints[3].vector);\n",
       "   line.vertices.push(allpoints[1].vector);\n",
       "   line.vertices.push(allpoints[0].vector);\n",
       "   obj.add(new THREE.Line(line, line_material));\n",
       "\n",
       "   var line = new THREE.Geometry();\n",
       "   line.vertices.push(allpoints[6].vector);\n",
       "   line.vertices.push(allpoints[4].vector);\n",
       "   line.vertices.push(allpoints[5].vector);\n",
       "   line.vertices.push(allpoints[7].vector);\n",
       "   line.vertices.push(allpoints[6].vector);\n",
       "   obj.add(new THREE.Line(line, line_material));\n",
       "\n",
       "   scene.add(obj);\n",
       "   all_objects.push(obj);\n",
       "\n",
       "// COMMON_CODE_BLOCK_BEGIN\n",
       "var xRotationEnabled = false;\n",
       "var yRotationEnabled = false;\n",
       "var zRotationEnabled = false;\n",
       "var rotationSpeedFactor = 1;\n",
       "var settingsShown = false;\n",
       "var labelsShown = true;\n",
       "var intervals = [];\n",
       "var timeouts = [];\n",
       "var explodingSpeed = 0.05;\n",
       "var explodeScale = 0;\n",
       "var XMLS = new XMLSerializer();\n",
       "var svgElement;\n",
       "var renderId;\n",
       "\n",
       "\tvar render = function () {\n",
       "\n",
       "\t\trenderId = requestAnimationFrame(render);\n",
       "\n",
       "//\t\tcomment in for automatic explosion\n",
       "//\t\texplode(updateFactor());\n",
       "\n",
       "\t\tvar phi = 0.02 * rotationSpeedFactor;\n",
       "\n",
       "\t\tif (xRotationEnabled){\n",
       "\t\t\tscene.rotation.x += phi;\n",
       "\t\t}\n",
       "\t\tif(yRotationEnabled){\n",
       "\t\t\tscene.rotation.y += phi;\n",
       "\t\t}\n",
       "\t\tif(zRotationEnabled){\n",
       "\t\t\tscene.rotation.z += phi;\n",
       "\t\t}\n",
       "\n",
       "\t\tcontrols.update();\n",
       "\t\trenderer.render(scene, camera);\n",
       "\t};\n",
       "\n",
       "\trender();\n",
       "\n",
       "\tfunction computeCentroid(geom) {\n",
       "\t\tcentroid = new THREE.Vector3();\n",
       "\t\tgeom.vertices.forEach(function(v) {\n",
       "\t\t\tcentroid.add(v);\t\t\t\n",
       "\t\t});\n",
       "\t\tcentroid.divideScalar(geom.vertices.length);\n",
       "\t\treturn centroid;\n",
       "\t}\n",
       "\n",
       "\tfunction changeTransparency(event){\n",
       "\t\tvar opacity = 1-Number(event.currentTarget.value);\n",
       "\t\tfor (var i=0; i<all_objects.length; i++){\n",
       "\t\t\tfor (var j=0; j<all_objects[i].children.length; j++){\n",
       "\t\t\t\tif (all_objects[i].children[j].material.type == \"MultiMaterial\") {\n",
       "\t\t\t\t\tfor (var k=0; k<all_objects[i].children[j].material.materials.length; k++){\n",
       "\t\t\t\t\t\tall_objects[i].children[j].material.materials[k].opacity = opacity;\n",
       "\t\t\t\t\t\tall_objects[i].children[j].material.materials[k].depthWrite = opacity < 0.5 ? false : true;\n",
       "\t\t\t\t\t\tall_objects[i].children[j].material.materials[k].depthTest = opacity < 0.5 ? false : true;\n",
       "\t\t\t\t\t}\n",
       "\t\t\t\t} else if (all_objects[i].children[j].material.transparent && \n",
       "\t\t\t\t\t\t\t  all_objects[i].children[j].material.type == \"MeshBasicMaterial\" &&\n",
       "\t\t\t\t\t\t\t  all_objects[i].children[j].geometry.type == \"Geometry\"){\n",
       "\t\t\t\t\tall_objects[i].children[j].material.opacity = opacity;\n",
       "\t\t\t\t\tall_objects[i].children[j].material.depthWrite = opacity < 0.5 ? false : true;\n",
       "\t\t\t\t\tall_objects[i].children[j].material.depthTest = opacity < 0.5 ? false : true;\n",
       "\t\t\t\t}\n",
       "\t\t\t}\n",
       "\t\t}\n",
       "\t}\n",
       "\n",
       "\tfunction changeRotationX(event){\n",
       "\t\txRotationEnabled = event.currentTarget.checked;\n",
       "\t}\t\n",
       "\n",
       "\tfunction changeRotationY(event){\n",
       "\t\tyRotationEnabled = event.currentTarget.checked;\n",
       "\t}\t\n",
       "\n",
       "\tfunction changeRotationZ(event){\n",
       "\t\tzRotationEnabled = event.currentTarget.checked;\n",
       "\t}\t\n",
       "\n",
       "\n",
       "\tfunction changeRotationSpeedFactor(event){\n",
       "\t\trotationSpeedFactor = Number(event.currentTarget.value);\n",
       "\t}\n",
       "\n",
       "\tfunction resetScene(){\n",
       "\t\tscene.rotation.set(0,0,0);\n",
       "\t\tcamera.position.set(0,0,5);\n",
       "\t\tcamera.up.set(0,1,0);\n",
       "\t}\n",
       "\n",
       "\tfunction showSettings(event){\n",
       "\t\tevent.currentTarget.style.display = 'none';\n",
       "\t\tdocument.getElementById('settings_0').style.position = 'absolute';\n",
       "\t\tdocument.getElementById('settings_0').style.display = 'block';\n",
       "\t\tdocument.getElementById('showSettingsButton_0').style.display = 'none';\n",
       "\t\tdocument.getElementById('hideSettingsButton_0').style.display = 'block';\n",
       "\t\tsettingsShown = true;\n",
       "\t}\n",
       "\n",
       "\tfunction hideSettings(event){\n",
       "\t\tevent.currentTarget.style.display = 'none';\n",
       "\t\tdocument.getElementById('settings_0').style.display = 'none';\n",
       "\t\tdocument.getElementById('hideSettingsButton_0').style.display = 'none';\n",
       "\t\tdocument.getElementById('showSettingsButton_0').style.display = 'block';\n",
       "\t\tsettingsShown = false;\n",
       "\t}\n",
       "\n",
       "\n",
       "\n",
       "\tvar pos = 150* Math.PI;\n",
       "\n",
       "\tfunction updateFactor() {\n",
       "\t\tpos++;\n",
       "\t\treturn Math.sin(.01*pos)+1;\n",
       "\t}\n",
       "\n",
       "\tfunction makelabel(message, x, y, z, params) {\n",
       "\t\tvar spritey = textSprite( message, params );\n",
       "\t\tspritey.position.set(x, y, z);\n",
       "\t\tobj.add(spritey);\n",
       "\t}\n",
       "\n",
       "\tfunction textSprite(message, parameters)\n",
       "\t{\n",
       "\t\tif ( parameters === undefined ) parameters = {};\n",
       "\n",
       "\t\tvar fontface = \"Helvetica\";\n",
       "\n",
       "\t\tvar fontsize = parameters.hasOwnProperty(\"fontsize\") ? \n",
       "\t\t\tparameters[\"fontsize\"] : 18;\n",
       "\t\tfontsize = fontsize*10;\n",
       "\n",
       "\t\tvar canvas = document.createElement('canvas');\n",
       "\t\tvar size = 1024;\n",
       "\t\tcanvas.width = size;\n",
       "\t\tcanvas.height = size;\n",
       "\t\tvar context = canvas.getContext('2d');\n",
       "\t\tcontext.font = fontsize + \"px \" + fontface;\n",
       "\n",
       "\t\t// text color\n",
       "\t\tcontext.fillStyle = \"rgba(0, 0, 0, 1.0)\";\n",
       "\n",
       "\t\tcontext.fillText(message, size/2, size/2);\n",
       "\n",
       "\t\t// canvas contents will be used for a texture\n",
       "\t\tvar texture = new THREE.Texture(canvas);\n",
       "\t\ttexture.needsUpdate = true;\n",
       "\n",
       "\t\tvar spriteMaterial = new THREE.SpriteMaterial(\n",
       "\t\t\t{map: texture, useScreenCoordinates: false});\n",
       "\t\tvar sprite = new THREE.Sprite(spriteMaterial);\n",
       "\t\treturn sprite;\n",
       "\t}\n",
       "\n",
       "\tfunction takeSvgScreenshot(){\n",
       "\t\tif (labelsShown){\n",
       "\t\t\thideLabels();\n",
       "\t\t}\n",
       "\t\tsvgRenderer.render(scene,camera);\n",
       "\t\tsvgElement = XMLS.serializeToString(svgRenderer.domElement);\n",
       "\t\t\n",
       "\t\tif (labelsShown){\n",
       "\t\t\tdisplayLabels();\n",
       "\t\t}\n",
       "\n",
       "\t\tif (document.getElementById('tab_0').checked){\n",
       "\t\t\t//show in new tab\n",
       "\t\t\tvar myWindow = window.open(\"\",\"\");\n",
       "\t\t\tmyWindow.document.body.innerHTML = svgElement;\n",
       "\t\t} else{\n",
       "\t\t\t// download svg file \n",
       "\t\t\tdownload(\"screenshot.svg\", svgElement);\n",
       "\t\t}\n",
       "\t}\n",
       "\t\t\n",
       "\n",
       "\tfunction showOrHideObject(event){\n",
       "\t\tvar nr = Number(event.currentTarget.name);\n",
       "\t\tall_objects[nr].visible = event.currentTarget.checked;\n",
       "\t}\n",
       "\n",
       "\tfunction displayOrHideOptionsRecursive( obj ) {\n",
       "\t\tfor (var j=0; j<obj.children.length; j++) {\n",
       "\t\t\tvar child = obj.children[j];\n",
       "\t\t\tif (child.material===undefined && child) {\n",
       "\t\t\t\tdisplayOrHideOptionsRecursive( child );\n",
       "\t\t\t} else {\n",
       "\t\t\t\tif (child.material.type == \"MultiMaterial\") {\n",
       "\t\t\t\t\tfor (var k=0; k<child.material.materials.length; k++) {\n",
       "\t\t\t\t\t\tif (child.material.materials[k].transparent) {\n",
       "\t\t\t\t\t\t\tdocument.getElementById('transparency_0').style.display = 'block';\n",
       "\t\t\t\t\t\t\tdocument.getElementById('transparencyRange_0').value = 1 - \n",
       "\t\t\t\t\t\t\t\tchild.material.materials[k].opacity;\n",
       "\t\t\t\t\t\t\treturn;\n",
       "\t\t\t\t\t\t}\n",
       "\t\t\t\t\t}\n",
       "\t\t\t\t} else if (\tchild.material.transparent && \n",
       "\t\t\t\t\t\t\t\tchild.material.type == \"MeshBasicMaterial\" &&\n",
       "\t\t\t\t\t\t\t\tchild.geometry.type == \"Geometry\"){\n",
       "\t\t\t\t\tdocument.getElementById('transparency_0').style.display = 'block';\n",
       "\t\t\t\t\treturn;\n",
       "\t\t\t\t}\n",
       "\t\t\t}\n",
       "\t\t}\n",
       "\t}\n",
       "\n",
       "\tfunction displayOrHideOptions() {\n",
       "\t\tfor (var i=0; i<all_objects.length; i++) {\n",
       "\t\t\tvar obj = all_objects[i];\n",
       "\t\t\tdisplayOrHideOptionsRecursive( obj );\n",
       "\t\t}\n",
       "\t}\n",
       "\n",
       "\tdisplayOrHideOptions()\n",
       "\n",
       "\n",
       "\n",
       "\n",
       "// ---------------------- EXPLOSION ------------------------------------------------\n",
       "// ---------------------------------------------------------------------------------\n",
       "\n",
       "\tfunction explode(factor) {\n",
       "\t\tvar obj, c;\n",
       "\t\tvar c0 = centroids[0];\n",
       "\t\tfor (var i = 0; i<centroids.length; ++i) {\n",
       "\t\t\tc = centroids[i];\n",
       "\t\t\tobj = all_objects[all_objects.length - centroids.length + i];\n",
       "\t\t\tobj.position.set(c.x*factor, c.y*factor, c.z*factor);\n",
       "\t\t}\t\n",
       "\t}\n",
       "\n",
       "\tfunction triggerExplode(event){\n",
       "\t\texplodeScale = Number(event.currentTarget.value);\n",
       "\t\texplode(explodeScale);\n",
       "\t}\n",
       "\n",
       "\tfunction setExplodingSpeed(event){\n",
       "\t\texplodingSpeed = Number(event.currentTarget.value);\n",
       "\t}\n",
       "\n",
       "\tfunction triggerAutomaticExplode(event){\n",
       "\t\tif (event.currentTarget.checked){\n",
       "\t\t\tstartExploding();\n",
       "\t\t} else {\n",
       "\t\t\tclearIntervals();\n",
       "\t\t}\t\n",
       "\t}\n",
       "\n",
       "\tfunction startExploding(){\n",
       "\t\tintervals.push(setInterval(explodingInterval, 25));\n",
       "\t}\n",
       "\n",
       "\n",
       "\tfunction explodingInterval(){\n",
       "\t\texplodeScale += explodingSpeed;\n",
       "\t\tif (explodeScale <= 6){ \n",
       "\t\t\texplode(explodeScale);\n",
       "\t\t}\n",
       "\t\telse{\n",
       "\t\t\texplode(6);\n",
       "\t\t\texplodeScale = 6;\n",
       "\t\t\tclearIntervals();\n",
       "\t\t\ttimeouts.push(setTimeout(startUnexploding, 3000));\n",
       "\t\t}\n",
       "\t\tdocument.getElementById('explodeRange_0').value = explodeScale;\n",
       "\t}\n",
       "\n",
       "\n",
       "\tfunction startUnexploding(){\n",
       "\t\tintervals.push(setInterval(unexplodingInterval, 25));\n",
       "\t}\n",
       "\n",
       "\tfunction unexplodingInterval(){\n",
       "\t\texplodeScale -= explodingSpeed;\n",
       "\t\tif (explodeScale >= 0){\t\n",
       "\t\t\texplode(explodeScale);\n",
       "\t\t}\n",
       "\t\telse {\n",
       "\t\t\texplode(0);\n",
       "\t\t\texplodeScale = 0;\n",
       "\t\t\tclearIntervals();\n",
       "\t\t\ttimeouts.push(setTimeout(startExploding, 3000));\n",
       "\t\t}\n",
       "\t\tdocument.getElementById('explodeRange_0').value = explodeScale;\n",
       "\t}\n",
       "\n",
       "\tfunction clearIntervals(){\n",
       "\t\tintervals.forEach(function(interval){\n",
       "\t\t\tclearInterval(interval);\n",
       "\t\t});\n",
       "\t\tintervals = [];\n",
       "\t\ttimeouts.forEach(function(timeout){\n",
       "\t\t\tclearTimeout(timeout);\n",
       "\t\t});\n",
       "\t\ttimeouts = [];\n",
       "\t}\n",
       "\n",
       "\t\t\t\n",
       "\n",
       "\t// append checkboxes for displaying or hiding objects\n",
       "\tvar shownObjectsList = document.getElementById('shownObjectsList_0');\n",
       "\tfor (var i=0; i<all_objects.length; i++){\n",
       "\t\tvar objNode = document.createElement('span');\n",
       "\t\tobjNode.innerHTML = objectnames[i] + '<br>';\n",
       "\t\tvar checkbox = document.createElement('input');\n",
       "\t\tcheckbox.type = 'checkbox';\n",
       "\t\tcheckbox.checked = true;\n",
       "\t\tcheckbox.name = String(i);\n",
       "\t\tcheckbox.onchange = showOrHideObject;\n",
       "\t\tshownObjectsList.appendChild(checkbox);\n",
       "\t\tshownObjectsList.appendChild(objNode);\n",
       "\t}\n",
       "\n",
       "\tfunction displayLabels(){\n",
       "\t\tfor (var i=0; i<all_objects.length; i++){\n",
       "\t\t\tfor (var j=0; j<all_objects[i].children.length; j++){\n",
       "\t\t\t\tvar child = all_objects[i].children[j];\n",
       "\t\t\t\tif (child.type == 'Sprite'){\n",
       "\t\t\t\t\tchild.visible = true;\n",
       "\t\t\t\t}\n",
       "\t\t\t}\n",
       "\t\t}\n",
       "\t}\n",
       "\n",
       "\tfunction hideLabels(){\n",
       "\t\tfor (var i=0; i<all_objects.length; i++){\n",
       "\t\t\tfor (var j=0; j<all_objects[i].children.length; j++){\n",
       "\t\t\t\tvar child = all_objects[i].children[j];\n",
       "\t\t\t\tif (child.type == 'Sprite'){\n",
       "\t\t\t\t\tchild.visible = false;\n",
       "\t\t\t\t}\n",
       "\t\t\t}\n",
       "\t\t}\n",
       "\t}\n",
       "\n",
       "\tfunction displayOrHideLabels(event){\n",
       "\t\tif (event.currentTarget.checked){\n",
       "\t\t\tdisplayLabels();\n",
       "\t\t\tlabelsShown = true;\n",
       "\t\t} else {\n",
       "\t\t\thideLabels();\n",
       "\t\t\tlabelsShown = false;\n",
       "\t\t}\n",
       "\t}\n",
       "\n",
       "\tfunction download(filename, text) {\n",
       "\t  var element = document.createElement('a');\n",
       "\t  element.setAttribute('href', 'data:text/plain;charset=utf-8,' + encodeURIComponent(text));\n",
       "\t  element.setAttribute('download', filename);\n",
       "\n",
       "\t  element.style.display = 'none';\n",
       "\t  document.body.appendChild(element);\n",
       "\n",
       "\t  element.click();\n",
       "\n",
       "\t  document.body.removeChild(element);\n",
       "\t}\n",
       "\n",
       "var tempobj;\n",
       "tempobj = document.getElementById('explodeRange_0');\n",
       "if (tempobj) {\n",
       "   tempobj.oninput = triggerExplode;\n",
       "   document.getElementById('explodeCheckbox_0').onchange = triggerAutomaticExplode;\n",
       "   document.getElementById('explodingSpeedRange_0').oninput = setExplodingSpeed;\n",
       "}\n",
       "tempobj = document.getElementById('foldRange_0');\n",
       "if (tempobj) {\n",
       "   tempobj.oninput = fold;\n",
       "}\n",
       "document.getElementById('transparencyRange_0').oninput = changeTransparency;\n",
       "document.getElementById('changeRotationX_0').onchange = changeRotationX;\n",
       "document.getElementById('changeRotationY_0').onchange = changeRotationY;\n",
       "document.getElementById('changeRotationZ_0').onchange = changeRotationZ;\n",
       "document.getElementById('resetButton_0').onclick = resetScene;\n",
       "document.getElementById('rotationSpeedRange_0').oninput = changeRotationSpeedFactor;\n",
       "document.getElementById('labelsCheckboxInput_0').onchange = displayOrHideLabels;\n",
       "document.getElementById('takeScreenshot_0').onclick = takeSvgScreenshot;\n",
       "document.getElementById('showSettingsButton_0').onclick = showSettings;\n",
       "document.getElementById('hideSettingsButton_0').onclick = hideSettings;\n",
       "\n",
       "\t\n",
       "\n",
       "// ------------------ SHORTCUTS --------------------------------------------\n",
       "// -------------------------------------------------------------------------\n",
       "\n",
       "/**\n",
       " * http://www.openjs.com/scripts/events/keyboard_shortcuts/\n",
       " * Version : 2.01.B\n",
       " * By Binny V A\n",
       " * License : BSD\n",
       " */\n",
       "shortcut = {\n",
       "\t'all_shortcuts':{},//All the shortcuts are stored in this array\n",
       "\t'add': function(shortcut_combination,callback,opt) {\n",
       "\t\t//Provide a set of default options\n",
       "\t\tvar default_options = {\n",
       "\t\t\t'type':'keydown',\n",
       "\t\t\t'propagate':false,\n",
       "\t\t\t'disable_in_input':false,\n",
       "\t\t\t'target':document,\n",
       "\t\t\t'keycode':false\n",
       "\t\t}\n",
       "\t\tif(!opt) opt = default_options;\n",
       "\t\telse {\n",
       "\t\t\tfor(var dfo in default_options) {\n",
       "\t\t\t\tif(typeof opt[dfo] == 'undefined') opt[dfo] = default_options[dfo];\n",
       "\t\t\t}\n",
       "\t\t}\n",
       "\n",
       "\t\tvar ele = opt.target;\n",
       "\t\tif(typeof opt.target == 'string') ele = document.getElementById(opt.target);\n",
       "\t\tvar ths = this;\n",
       "\t\tshortcut_combination = shortcut_combination.toLowerCase();\n",
       "\n",
       "\t\t//The function to be called at keypress\n",
       "\t\tvar func = function(e) {\n",
       "\t\t\te = e || window.event;\n",
       "\t\t\t\n",
       "\t\t\tif(opt['disable_in_input']) { //Don't enable shortcut keys in Input, Textarea fields\n",
       "\t\t\t\tvar element;\n",
       "\t\t\t\tif(e.target) element=e.target;\n",
       "\t\t\t\telse if(e.srcElement) element=e.srcElement;\n",
       "\t\t\t\tif(element.nodeType==3) element=element.parentNode;\n",
       "\n",
       "\t\t\t\tif(element.tagName == 'INPUT' || element.tagName == 'TEXTAREA') return;\n",
       "\t\t\t}\n",
       "\t\n",
       "\t\t\t//Find Which key is pressed\n",
       "\t\t\tif (e.keyCode) code = e.keyCode;\n",
       "\t\t\telse if (e.which) code = e.which;\n",
       "\t\t\tvar character = String.fromCharCode(code).toLowerCase();\n",
       "\t\t\t\n",
       "\t\t\tif(code == 188) character=\",\"; //If the user presses , when the type is onkeydown\n",
       "\t\t\tif(code == 190) character=\".\"; //If the user presses , when the type is onkeydown\n",
       "\n",
       "\t\t\tvar keys = shortcut_combination.split(\"+\");\n",
       "\t\t\t//Key Pressed - counts the number of valid keypresses - if it is same as the number of keys, the shortcut function is invoked\n",
       "\t\t\tvar kp = 0;\n",
       "\t\t\t\n",
       "\t\t\t//Work around for stupid Shift key bug created by using lowercase - as a result the shift+num combination was broken\n",
       "\t\t\tvar shift_nums = {\n",
       "\t\t\t\t\"`\":\"~\",\n",
       "\t\t\t\t\"1\":\"!\",\n",
       "\t\t\t\t\"2\":\"@\",\n",
       "\t\t\t\t\"3\":\"#\",\n",
       "\t\t\t\t\"4\":\"$\",\n",
       "\t\t\t\t\"5\":\"%\",\n",
       "\t\t\t\t\"6\":\"^\",\n",
       "\t\t\t\t\"7\":\"&\",\n",
       "\t\t\t\t\"8\":\"*\",\n",
       "\t\t\t\t\"9\":\"(\",\n",
       "\t\t\t\t\"0\":\")\",\n",
       "\t\t\t\t\"-\":\"_\",\n",
       "\t\t\t\t\"=\":\"+\",\n",
       "\t\t\t\t\";\":\":\",\n",
       "\t\t\t\t\"'\":\"\\\"\",\n",
       "\t\t\t\t\",\":\"<\",\n",
       "\t\t\t\t\".\":\">\",\n",
       "\t\t\t\t\"/\":\"?\",\n",
       "\t\t\t\t\"\\\\\":\"|\"\n",
       "\t\t\t}\n",
       "\t\t\t//Special Keys - and their codes\n",
       "\t\t\tvar special_keys = {\n",
       "\t\t\t\t'esc':27,\n",
       "\t\t\t\t'escape':27,\n",
       "\t\t\t\t'tab':9,\n",
       "\t\t\t\t'space':32,\n",
       "\t\t\t\t'return':13,\n",
       "\t\t\t\t'enter':13,\n",
       "\t\t\t\t'backspace':8,\n",
       "\t\n",
       "\t\t\t\t'scrolllock':145,\n",
       "\t\t\t\t'scroll_lock':145,\n",
       "\t\t\t\t'scroll':145,\n",
       "\t\t\t\t'capslock':20,\n",
       "\t\t\t\t'caps_lock':20,\n",
       "\t\t\t\t'caps':20,\n",
       "\t\t\t\t'numlock':144,\n",
       "\t\t\t\t'num_lock':144,\n",
       "\t\t\t\t'num':144,\n",
       "\t\t\t\t\n",
       "\t\t\t\t'pause':19,\n",
       "\t\t\t\t'break':19,\n",
       "\t\t\t\t\n",
       "\t\t\t\t'insert':45,\n",
       "\t\t\t\t'home':36,\n",
       "\t\t\t\t'delete':46,\n",
       "\t\t\t\t'end':35,\n",
       "\t\t\t\t\n",
       "\t\t\t\t'pageup':33,\n",
       "\t\t\t\t'page_up':33,\n",
       "\t\t\t\t'pu':33,\n",
       "\t\n",
       "\t\t\t\t'pagedown':34,\n",
       "\t\t\t\t'page_down':34,\n",
       "\t\t\t\t'pd':34,\n",
       "\t\n",
       "\t\t\t\t'left':37,\n",
       "\t\t\t\t'up':38,\n",
       "\t\t\t\t'right':39,\n",
       "\t\t\t\t'down':40,\n",
       "\t\n",
       "\t\t\t\t'f1':112,\n",
       "\t\t\t\t'f2':113,\n",
       "\t\t\t\t'f3':114,\n",
       "\t\t\t\t'f4':115,\n",
       "\t\t\t\t'f5':116,\n",
       "\t\t\t\t'f6':117,\n",
       "\t\t\t\t'f7':118,\n",
       "\t\t\t\t'f8':119,\n",
       "\t\t\t\t'f9':120,\n",
       "\t\t\t\t'f10':121,\n",
       "\t\t\t\t'f11':122,\n",
       "\t\t\t\t'f12':123\n",
       "\t\t\t}\n",
       "\t\n",
       "\t\t\tvar modifiers = { \n",
       "\t\t\t\tshift: { wanted:false, pressed:false},\n",
       "\t\t\t\tctrl : { wanted:false, pressed:false},\n",
       "\t\t\t\talt  : { wanted:false, pressed:false},\n",
       "\t\t\t\tmeta : { wanted:false, pressed:false}\t//Meta is Mac specific\n",
       "\t\t\t};\n",
       "                        \n",
       "\t\t\tif(e.ctrlKey)\tmodifiers.ctrl.pressed = true;\n",
       "\t\t\tif(e.shiftKey)\tmodifiers.shift.pressed = true;\n",
       "\t\t\tif(e.altKey)\tmodifiers.alt.pressed = true;\n",
       "\t\t\tif(e.metaKey)   modifiers.meta.pressed = true;\n",
       "                        \n",
       "\t\t\tfor(var i=0; k=keys[i],i<keys.length; i++) {\n",
       "\t\t\t\t//Modifiers\n",
       "\t\t\t\tif(k == 'ctrl' || k == 'control') {\n",
       "\t\t\t\t\tkp++;\n",
       "\t\t\t\t\tmodifiers.ctrl.wanted = true;\n",
       "\n",
       "\t\t\t\t} else if(k == 'shift') {\n",
       "\t\t\t\t\tkp++;\n",
       "\t\t\t\t\tmodifiers.shift.wanted = true;\n",
       "\n",
       "\t\t\t\t} else if(k == 'alt') {\n",
       "\t\t\t\t\tkp++;\n",
       "\t\t\t\t\tmodifiers.alt.wanted = true;\n",
       "\t\t\t\t} else if(k == 'meta') {\n",
       "\t\t\t\t\tkp++;\n",
       "\t\t\t\t\tmodifiers.meta.wanted = true;\n",
       "\t\t\t\t} else if(k.length > 1) { //If it is a special key\n",
       "\t\t\t\t\tif(special_keys[k] == code) kp++;\n",
       "\t\t\t\t\t\n",
       "\t\t\t\t} else if(opt['keycode']) {\n",
       "\t\t\t\t\tif(opt['keycode'] == code) kp++;\n",
       "\n",
       "\t\t\t\t} else { //The special keys did not match\n",
       "\t\t\t\t\tif(character == k) kp++;\n",
       "\t\t\t\t\telse {\n",
       "\t\t\t\t\t\tif(shift_nums[character] && e.shiftKey) { //Stupid Shift key bug created by using lowercase\n",
       "\t\t\t\t\t\t\tcharacter = shift_nums[character]; \n",
       "\t\t\t\t\t\t\tif(character == k) kp++;\n",
       "\t\t\t\t\t\t}\n",
       "\t\t\t\t\t}\n",
       "\t\t\t\t}\n",
       "\t\t\t}\n",
       "\t\t\t\n",
       "\t\t\tif(kp == keys.length && \n",
       "\t\t\t\t\t\tmodifiers.ctrl.pressed == modifiers.ctrl.wanted &&\n",
       "\t\t\t\t\t\tmodifiers.shift.pressed == modifiers.shift.wanted &&\n",
       "\t\t\t\t\t\tmodifiers.alt.pressed == modifiers.alt.wanted &&\n",
       "\t\t\t\t\t\tmodifiers.meta.pressed == modifiers.meta.wanted) {\n",
       "\t\t\t\tcallback(e);\n",
       "\t\n",
       "\t\t\t\tif(!opt['propagate']) { //Stop the event\n",
       "\t\t\t\t\t//e.cancelBubble is supported by IE - this will kill the bubbling process.\n",
       "\t\t\t\t\te.cancelBubble = true;\n",
       "\t\t\t\t\te.returnValue = false;\n",
       "\t\n",
       "\t\t\t\t\t//e.stopPropagation works in Firefox.\n",
       "\t\t\t\t\tif (e.stopPropagation) {\n",
       "\t\t\t\t\t\te.stopPropagation();\n",
       "\t\t\t\t\t\te.preventDefault();\n",
       "\t\t\t\t\t}\n",
       "\t\t\t\t\treturn false;\n",
       "\t\t\t\t}\n",
       "\t\t\t}\n",
       "\t\t}\n",
       "\t\tthis.all_shortcuts[shortcut_combination] = {\n",
       "\t\t\t'callback':func, \n",
       "\t\t\t'target':ele, \n",
       "\t\t\t'event': opt['type']\n",
       "\t\t};\n",
       "\t\t//Attach the function with the event\n",
       "\t\tif(ele.addEventListener) ele.addEventListener(opt['type'], func, false);\n",
       "\t\telse if(ele.attachEvent) ele.attachEvent('on'+opt['type'], func);\n",
       "\t\telse ele['on'+opt['type']] = func;\n",
       "\t},\n",
       "\n",
       "\t//Remove the shortcut - just specify the shortcut and I will remove the binding\n",
       "\t'remove':function(shortcut_combination) {\n",
       "\t\tshortcut_combination = shortcut_combination.toLowerCase();\n",
       "\t\tvar binding = this.all_shortcuts[shortcut_combination];\n",
       "\t\tdelete(this.all_shortcuts[shortcut_combination])\n",
       "\t\tif(!binding) return;\n",
       "\t\tvar type = binding['event'];\n",
       "\t\tvar ele = binding['target'];\n",
       "\t\tvar callback = binding['callback'];\n",
       "\n",
       "\t\tif(ele.detachEvent) ele.detachEvent('on'+type, callback);\n",
       "\t\telse if(ele.removeEventListener) ele.removeEventListener(type, callback, false);\n",
       "\t\telse ele['on'+type] = false;\n",
       "\t}\n",
       "}\n",
       "\n",
       "shortcut.add(\"Alt+Left\",function() {\n",
       "\tvar event = new Event('click');\n",
       "\tif (settingsShown){\n",
       "\t\tdocument.getElementById('hideSettingsButton_0').dispatchEvent(event);\n",
       "\t} else{\n",
       "\t\tdocument.getElementById('showSettingsButton_0').dispatchEvent(event);\n",
       "\t}\n",
       "});\n",
       "\n",
       "if (foldable) moveToBaryCenter();\n",
       "\n",
       "\n",
       "});});\n",
       "// COMMON_CODE_BLOCK_END\n",
       "</script>\n",
       "\n",
       "</body>\n",
       "</html>\n"
      ],
      "text/plain": []
     },
     "execution_count": 11,
     "metadata": {},
     "output_type": "execute_result"
    },
    {
     "name": "stderr",
     "output_type": "stream",
     "text": [
      "polymake: used package threejs\n",
      "   Three.js is a lightweight cross-browser JavaScript library/API used to create and display animated 3D computer graphics on a Web browser.\n",
      "   See http://github.com/mrdoob for the source code.\n",
      "\n"
     ]
    }
   ],
   "source": [
    "Polytope.visual(c)"
   ]
  },
  {
   "cell_type": "markdown",
   "metadata": {
    "slideshow": {
     "slide_type": "slide"
    }
   },
   "source": [
    "It is important to know that some big object properties like `VISUAL` are not accessed via `.`, but via their name as a method."
   ]
  },
  {
   "cell_type": "markdown",
   "metadata": {
    "slideshow": {
     "slide_type": "fragment"
    }
   },
   "source": [
    "So if you encounter a property in the Polymake manual, and you cannot access it via\n",
    "\n",
    "`\n",
    "p.PROPERTY\n",
    "`\n",
    "\n",
    "try\n",
    "\n",
    "`\n",
    "Application.property(p)\n",
    "`\n",
    "\n",
    "instead"
   ]
  },
  {
   "cell_type": "markdown",
   "metadata": {
    "slideshow": {
     "slide_type": "slide"
    }
   },
   "source": [
    "## Some Polymake functionality\n",
    "\n",
    "Polymakes main focus are discrete geometry computations, such as Hilbert bases of cones, double descriptions of polytopes, etc."
   ]
  },
  {
   "cell_type": "markdown",
   "metadata": {
    "slideshow": {
     "slide_type": "slide"
    }
   },
   "source": [
    "## Hilbert bases\n",
    "\n",
    "A Hilbert basis is a $\\mathbb{Z}_{\\geq0}$ generating set of a cone.\n",
    "\n",
    "We want to compute the Hilbert basis of a cone generated by the rays\n",
    "$$(1,0,0),(2,1,0),(3,2,1)$$"
   ]
  },
  {
   "cell_type": "code",
   "execution_count": 12,
   "metadata": {},
   "outputs": [
    {
     "data": {
      "text/html": [
       "<details>\n",
       "<summary>Cone<Rational></summary>\n",
       "    <pre>\n",
       "\n",
       "INPUT_RAYS\n",
       "1 0 3\n",
       "1 1/2 0\n",
       "1 2/3 1/3\n",
       "\n",
       "\n",
       "    </pre>\n",
       "</details>\n"
      ],
      "text/plain": [
       "type: Cone<Rational>\n",
       "\n",
       "INPUT_RAYS\n",
       "1 0 3\n",
       "1 1/2 0\n",
       "1 2/3 1/3\n",
       "\n"
      ]
     },
     "execution_count": 12,
     "metadata": {},
     "output_type": "execute_result"
    }
   ],
   "source": [
    "c = @pm Polytope.Cone(INPUT_RAYS=[ 1 0 3; 2 1 0; 3 2 1 ])"
   ]
  },
  {
   "cell_type": "code",
   "execution_count": 13,
   "metadata": {},
   "outputs": [
    {
     "name": "stderr",
     "output_type": "stream",
     "text": [
      "polymake: used package libnormaliz\n",
      "  [[wiki:external_software#Normaliz]] is a tool for computations in affine monoids, vector configurations, lattice polytopes, and rational cones.\n",
      "  Copyright by Winfried Bruns, Bogdan Ichim, Christof Soeger.\n",
      "  http://www.math.uos.de/normaliz/\n",
      "\n"
     ]
    },
    {
     "data": {
      "text/plain": [
       "pm::Matrix<pm::Integer>\n",
       "1 0 3\n",
       "2 1 0\n",
       "2 1 1\n",
       "2 1 2\n",
       "3 2 1\n"
      ]
     },
     "execution_count": 13,
     "metadata": {},
     "output_type": "execute_result"
    }
   ],
   "source": [
    "Polytope.hilbert_basis(c)"
   ]
  },
  {
   "cell_type": "markdown",
   "metadata": {
    "slideshow": {
     "slide_type": "slide"
    }
   },
   "source": [
    "We can also define our cone by inequalities, lets consider the cone generated by\n",
    "$$ x + y + z \\geq 0$$\n",
    "$$ 2x    + z \\geq 0$$\n",
    "$$     y - z \\geq 0$$"
   ]
  },
  {
   "cell_type": "code",
   "execution_count": 14,
   "metadata": {},
   "outputs": [
    {
     "data": {
      "text/html": [
       "<details>\n",
       "<summary>Cone<Rational></summary>\n",
       "    <pre>\n",
       "\n",
       "INEQUALITIES\n",
       "1 1 1\n",
       "2 0 1\n",
       "0 1 -1\n",
       "\n",
       "\n",
       "    </pre>\n",
       "</details>\n"
      ],
      "text/plain": [
       "type: Cone<Rational>\n",
       "\n",
       "INEQUALITIES\n",
       "1 1 1\n",
       "2 0 1\n",
       "0 1 -1\n",
       "\n"
      ]
     },
     "execution_count": 14,
     "metadata": {},
     "output_type": "execute_result"
    }
   ],
   "source": [
    "c_ineqs = @pm Polytope.Cone(INEQUALITIES=[1 1 1; 2 0 1; 0 1 -1])"
   ]
  },
  {
   "cell_type": "code",
   "execution_count": 15,
   "metadata": {},
   "outputs": [
    {
     "data": {
      "text/plain": [
       "pm::Matrix<pm::Rational>\n",
       "-1 2 2\n",
       "1 1 -2\n",
       "1 -1/2 -1/2\n"
      ]
     },
     "execution_count": 15,
     "metadata": {},
     "output_type": "execute_result"
    }
   ],
   "source": [
    "c_ineqs.RAYS"
   ]
  },
  {
   "cell_type": "markdown",
   "metadata": {
    "slideshow": {
     "slide_type": "slide"
    }
   },
   "source": [
    "Of course, we can compute the Hilbert basis of this cone"
   ]
  },
  {
   "cell_type": "code",
   "execution_count": 16,
   "metadata": {},
   "outputs": [
    {
     "data": {
      "text/plain": [
       "pm::Matrix<pm::Integer>\n",
       "-1 2 2\n",
       "0 1 0\n",
       "0 1 1\n",
       "1 0 -1\n",
       "1 0 0\n",
       "1 1 -2\n",
       "2 -1 -1\n"
      ]
     },
     "execution_count": 16,
     "metadata": {},
     "output_type": "execute_result"
    }
   ],
   "source": [
    "Polytope.hilbert_basis(c_ineqs)"
   ]
  },
  {
   "cell_type": "markdown",
   "metadata": {
    "slideshow": {
     "slide_type": "slide"
    }
   },
   "source": [
    "### Double description of Polytopes\n",
    "\n",
    "A polytope in Polymake can be defined by equations and inequations, or by points. We can convert one representation into the other."
   ]
  },
  {
   "cell_type": "markdown",
   "metadata": {
    "slideshow": {
     "slide_type": "fragment"
    }
   },
   "source": [
    "To create a polytope with vertices\n",
    "$$(1,2),(1,0),(0,1)$$\n",
    "we can use the following command"
   ]
  },
  {
   "cell_type": "code",
   "execution_count": 17,
   "metadata": {},
   "outputs": [
    {
     "data": {
      "text/html": [
       "<details>\n",
       "<summary>Polytope<Rational></summary>\n",
       "    <pre>\n",
       "\n",
       "POINTS\n",
       "1 1 2\n",
       "1 1 0\n",
       "1 0 1\n",
       "\n",
       "\n",
       "    </pre>\n",
       "</details>\n"
      ],
      "text/plain": [
       "type: Polytope<Rational>\n",
       "\n",
       "POINTS\n",
       "1 1 2\n",
       "1 1 0\n",
       "1 0 1\n",
       "\n"
      ]
     },
     "execution_count": 17,
     "metadata": {},
     "output_type": "execute_result"
    }
   ],
   "source": [
    "pol = @pm Polytope.Polytope(POINTS=[1 1 2; 1 1 0; 1 0 1])"
   ]
  },
  {
   "cell_type": "markdown",
   "metadata": {},
   "source": [
    "The coordinates need to be entered homogeneous, i.e., points need to prepended with a $1$. If you are entering a polyhedron and want to add a ray, you need to prepend a $0$."
   ]
  },
  {
   "cell_type": "markdown",
   "metadata": {
    "slideshow": {
     "slide_type": "slide"
    }
   },
   "source": [
    "To enter the $2$-dimensional polytope generated by the following inequalities\n",
    "$$ x_1 \\geq 0 $$\n",
    "$$ x_2 \\geq 0 $$\n",
    "$$ x_1 + x_2 \\geq 1$$\n",
    "we need the following Polymake input"
   ]
  },
  {
   "cell_type": "code",
   "execution_count": 18,
   "metadata": {},
   "outputs": [
    {
     "data": {
      "text/html": [
       "<details>\n",
       "<summary>Polytope<Rational></summary>\n",
       "    <pre>\n",
       "\n",
       "INEQUALITIES\n",
       "0 1 0\n",
       "0 0 1\n",
       "-1 1 1\n",
       "1 0 0\n",
       "\n",
       "\n",
       "    </pre>\n",
       "</details>\n"
      ],
      "text/plain": [
       "type: Polytope<Rational>\n",
       "\n",
       "INEQUALITIES\n",
       "0 1 0\n",
       "0 0 1\n",
       "-1 1 1\n",
       "1 0 0\n",
       "\n"
      ]
     },
     "execution_count": 18,
     "metadata": {},
     "output_type": "execute_result"
    }
   ],
   "source": [
    "pol_ineq = @pm Polytope.Polytope(INEQUALITIES=[0 1 0; 0 0 1; -1 1 1])"
   ]
  },
  {
   "cell_type": "markdown",
   "metadata": {
    "slideshow": {
     "slide_type": "fragment"
    }
   },
   "source": [
    "The inhomogeneous inequality\n",
    "$$ x_1 + x_2 \\geq 1$$\n",
    "is translated to the homogeneous inequality\n",
    "$$ -1 + x_1 + x_2 \\geq 0$$\n",
    "and then entered as the vector\n",
    "$$(-1,1,1)$$"
   ]
  },
  {
   "cell_type": "markdown",
   "metadata": {
    "slideshow": {
     "slide_type": "slide"
    }
   },
   "source": [
    "We can ask `pol_ineq` about its vertices"
   ]
  },
  {
   "cell_type": "code",
   "execution_count": 19,
   "metadata": {},
   "outputs": [
    {
     "data": {
      "text/plain": [
       "pm::Matrix<pm::Rational>\n",
       "1 0 1\n",
       "1 1 0\n",
       "0 1 0\n",
       "0 0 1\n"
      ]
     },
     "execution_count": 19,
     "metadata": {},
     "output_type": "execute_result"
    }
   ],
   "source": [
    "pol_ineq.VERTICES"
   ]
  },
  {
   "cell_type": "markdown",
   "metadata": {
    "slideshow": {
     "slide_type": "fragment"
    }
   },
   "source": [
    "We see two actual vertices\n",
    "$$(0,1) \\text{ and } (1,0)$$\n",
    "(the rows that start with $1$) and two rays\n",
    "$$(1,0) \\text{ and } (0,1)$$\n",
    "(the rows that start with $0$)."
   ]
  },
  {
   "cell_type": "markdown",
   "metadata": {
    "slideshow": {
     "slide_type": "slide"
    }
   },
   "source": [
    "We can also examine the polytope further"
   ]
  },
  {
   "cell_type": "code",
   "execution_count": 20,
   "metadata": {},
   "outputs": [
    {
     "data": {
      "text/plain": [
       "false"
      ]
     },
     "execution_count": 20,
     "metadata": {},
     "output_type": "execute_result"
    }
   ],
   "source": [
    "pol_ineq.BOUNDED"
   ]
  },
  {
   "cell_type": "code",
   "execution_count": 21,
   "metadata": {},
   "outputs": [
    {
     "data": {
      "text/plain": [
       "pm::Set<int, pm::operations::cmp>\n",
       "{2 3}"
      ]
     },
     "execution_count": 21,
     "metadata": {},
     "output_type": "execute_result"
    }
   ],
   "source": [
    "pol_ineq.FAR_FACE"
   ]
  },
  {
   "cell_type": "markdown",
   "metadata": {
    "slideshow": {
     "slide_type": "fragment"
    }
   },
   "source": [
    "Here we see that the last two vertices are indeed rays, as they appear in the face at infinity.\n",
    "\n",
    "Polymake is $0$-indexed, contrary to GAPs and Julias $1$-indexing. Polymake index sets since always need to be shifted by one. (This will be fixed some time soon)"
   ]
  },
  {
   "cell_type": "markdown",
   "metadata": {
    "slideshow": {
     "slide_type": "slide"
    }
   },
   "source": [
    "## Lattice points\n",
    "\n",
    "Polymake allows you to compute the lattice points of a polytope, i.e., points with integer coordinates."
   ]
  },
  {
   "cell_type": "code",
   "execution_count": 22,
   "metadata": {},
   "outputs": [
    {
     "data": {
      "text/html": [
       "<details>\n",
       "<summary>Polytope<Rational></summary>\n",
       "    <pre>\n",
       "\n",
       "INEQUALITIES\n",
       "0 1 0\n",
       "0 0 1\n",
       "2 -1 -1\n",
       "1 0 0\n",
       "\n",
       "\n",
       "    </pre>\n",
       "</details>\n"
      ],
      "text/plain": [
       "type: Polytope<Rational>\n",
       "\n",
       "INEQUALITIES\n",
       "0 1 0\n",
       "0 0 1\n",
       "2 -1 -1\n",
       "1 0 0\n",
       "\n"
      ]
     },
     "execution_count": 22,
     "metadata": {},
     "output_type": "execute_result"
    }
   ],
   "source": [
    "p = @pm Polytope.Polytope(INEQUALITIES=[ 0 1 0 ; 0 0 1 ; 2 -1 -1 ])"
   ]
  },
  {
   "cell_type": "code",
   "execution_count": 23,
   "metadata": {},
   "outputs": [
    {
     "data": {
      "text/plain": [
       "pm::Matrix<pm::Integer>\n",
       "1 0 0\n",
       "1 0 1\n",
       "1 0 2\n",
       "1 1 0\n",
       "1 1 1\n",
       "1 2 0\n"
      ]
     },
     "execution_count": 23,
     "metadata": {},
     "output_type": "execute_result"
    }
   ],
   "source": [
    "Polytope.lattice_points(p)"
   ]
  },
  {
   "cell_type": "markdown",
   "metadata": {
    "slideshow": {
     "slide_type": "fragment"
    }
   },
   "source": [
    "We see that the polytope with vertices\n",
    "$$(0,0),\\ (2,0),\\ (0,2)$$\n",
    "has six lattice points "
   ]
  }
 ],
 "metadata": {
  "@webio": {
   "lastCommId": "cfd4a51a372c482a846290887c70f533",
   "lastKernelId": "ec7a5c3f-badc-4bbc-8c4e-24b89aca350c"
  },
  "celltoolbar": "Slideshow",
  "kernelspec": {
   "display_name": "Julia 1.1.0",
   "language": "julia",
   "name": "julia-1.1"
  },
  "language_info": {
   "file_extension": ".jl",
   "mimetype": "application/julia",
   "name": "julia",
   "version": "1.1.0"
  }
 },
 "nbformat": 4,
 "nbformat_minor": 2
}
