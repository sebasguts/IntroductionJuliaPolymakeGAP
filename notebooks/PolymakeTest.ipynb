{
 "cells": [
  {
   "cell_type": "code",
   "execution_count": 1,
   "metadata": {},
   "outputs": [
    {
     "name": "stderr",
     "output_type": "stream",
     "text": [
      "┌ Info: Recompiling stale cache file /home/sebastian/.julia/compiled/v1.0/Polymake/QizyK.ji for Polymake [d720cf60-89b5-51f5-aff5-213f193123e7]\n",
      "└ @ Base loading.jl:1184\n"
     ]
    },
    {
     "name": "stdout",
     "output_type": "stream",
     "text": [
      "polymake version 3.2\n",
      "Copyright (c) 1997-2018\n",
      "Ewgenij Gawrilow, Michael Joswig (TU Berlin)\n",
      "http://www.polymake.org\n",
      "\n",
      "This is free software licensed under GPL; see the source for copying conditions.\n",
      "There is NO warranty; not even for MERCHANTABILITY or FITNESS FOR A PARTICULAR PURPOSE.\n",
      "\n"
     ]
    }
   ],
   "source": [
    "using Polymake"
   ]
  },
  {
   "cell_type": "code",
   "execution_count": 2,
   "metadata": {},
   "outputs": [
    {
     "data": {
      "text/plain": [
       "type: Polytope<Rational>\n",
       "description: cube of dimension 3\n",
       "\n",
       "\n",
       "CONE_AMBIENT_DIM\n",
       "4\n",
       "\n",
       "CONE_DIM\n",
       "4\n",
       "\n",
       "FACETS\n",
       "1 1 0 0\n",
       "1 -1 0 0\n",
       "1 0 1 0\n",
       "1 0 -1 0\n",
       "1 0 0 1\n",
       "1 0 0 -1\n",
       "\n",
       "\n",
       "AFFINE_HULL\n",
       "\n",
       "\n",
       "VERTICES_IN_FACETS\n",
       "{0 2 4 6}\n",
       "{1 3 5 7}\n",
       "{0 1 4 5}\n",
       "{2 3 6 7}\n",
       "{0 1 2 3}\n",
       "{4 5 6 7}\n",
       "\n",
       "\n",
       "BOUNDED\n",
       "true\n"
      ]
     },
     "execution_count": 2,
     "metadata": {},
     "output_type": "execute_result"
    }
   ],
   "source": [
    "Polytopes.cube(3)"
   ]
  },
  {
   "cell_type": "code",
   "execution_count": null,
   "metadata": {},
   "outputs": [],
   "source": []
  }
 ],
 "metadata": {
  "@webio": {
   "lastCommId": "70caf6dc46d64eaf8a43c0d2dfc19187",
   "lastKernelId": "c7414dfe-f783-4789-bbfa-823ea5f8a671"
  },
  "kernelspec": {
   "display_name": "Julia 1.0.0",
   "language": "julia",
   "name": "julia-1.0"
  },
  "language_info": {
   "file_extension": ".jl",
   "mimetype": "application/julia",
   "name": "julia",
   "version": "1.0.0"
  }
 },
 "nbformat": 4,
 "nbformat_minor": 2
}
