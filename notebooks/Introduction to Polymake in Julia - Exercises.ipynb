{
 "cells": [
  {
   "cell_type": "markdown",
   "metadata": {},
   "source": [
    "# Introduction to Polymake in Julia - Exercises"
   ]
  },
  {
   "cell_type": "code",
   "execution_count": null,
   "metadata": {},
   "outputs": [],
   "source": [
    "using Polymake\n",
    "using GAP"
   ]
  },
  {
   "cell_type": "markdown",
   "metadata": {},
   "source": [
    "In this exercise sheet, we will practise working with Polymake in Julia, and combine it with using GAP. The functions implemented in this exercise sheet are part of the implementation of the GIT fan by Böhm, Keicher, Ren."
   ]
  },
  {
   "cell_type": "markdown",
   "metadata": {},
   "source": [
    "## Exercise 1 - Intersecting two cones\n",
    "\n",
    "Write a function `intersect` that computes the intersection of two (pointed) Polymake cones as a polymake cone, without using the Polymake intersection method.\n",
    "\n",
    "Hint: You can get the defining inequalities of a Cone `c` via `c.FACETS`"
   ]
  },
  {
   "cell_type": "code",
   "execution_count": null,
   "metadata": {},
   "outputs": [],
   "source": [
    "function intersect(p1,p2)\n",
    "end"
   ]
  },
  {
   "cell_type": "code",
   "execution_count": null,
   "metadata": {},
   "outputs": [],
   "source": [
    "c1 = @pm Polytope.Cone(INPUT_RAYS=[1 0 0; 0 1 0; 0 0 1])\n",
    "c2 = @pm Polytope.Cone(INPUT_RAYS=[1 0 0; 1 1 0; 1 1 1])\n",
    "c3 = intersect(c1,c2)\n",
    "c3.RAYS"
   ]
  },
  {
   "cell_type": "markdown",
   "metadata": {},
   "source": [
    "## Exercise 2 - Interior lattice points of polytope\n",
    "\n",
    "Write a function that, for a given (full dimensional) cone, compute the set of hilbert basis elements that are not rays. You can either use `RAYS` or `INEQUALITIES`"
   ]
  },
  {
   "cell_type": "code",
   "execution_count": null,
   "metadata": {},
   "outputs": [],
   "source": [
    "function interior_hilbert_element(cone)\n",
    "end"
   ]
  },
  {
   "cell_type": "code",
   "execution_count": null,
   "metadata": {},
   "outputs": [],
   "source": [
    "cone = @pm Polytope.Cone(INPUT_RAYS=[ 1 0 ; 1 5 ])\n",
    "xx = interior_hilbert_element(cone)"
   ]
  },
  {
   "cell_type": "markdown",
   "metadata": {},
   "source": [
    "## Exercise 3 - Operating on cones\n",
    "\n",
    "Write a function that applies a GAP permutation on $n$ points to a cone of dimension $n$, permuting the coordinates.\n",
    "\n",
    "Hint: The `@pm` macro matrices currently need to be made from Julia numbers. You can either use `Polymake.perlobj` to create the cone, or convert the integers."
   ]
  },
  {
   "cell_type": "code",
   "execution_count": null,
   "metadata": {},
   "outputs": [],
   "source": [
    "function action(cone,perm)\n",
    "end"
   ]
  },
  {
   "cell_type": "code",
   "execution_count": null,
   "metadata": {},
   "outputs": [],
   "source": [
    "cone = @pm Polytope.Cone(INPUT_RAYS=[ 1 0 ; 1 5 ])\n",
    "perm = GAP.EvalString(\"(1,2)\")\n",
    "action(cone,perm)"
   ]
  },
  {
   "cell_type": "markdown",
   "metadata": {},
   "source": [
    "## Exercise 4 - Ordering Cones\n",
    "\n",
    "For technical reasons, GAP needs to be able to order and compare elements it wants to compute an orbit of.\n",
    "Write Julia function for `isless` and `==` that provide an arbitrary but fixed order on cones."
   ]
  },
  {
   "cell_type": "code",
   "execution_count": null,
   "metadata": {},
   "outputs": [],
   "source": [
    "function Base.isless(a::Polymake.pm_perl_Object,b::Polymake.pm_perl_Object)\n",
    "end"
   ]
  },
  {
   "cell_type": "code",
   "execution_count": null,
   "metadata": {},
   "outputs": [],
   "source": [
    "function Base.:(==)(a::Polymake.pm_perl_Object,b::Polymake.pm_perl_Object)\n",
    "end"
   ]
  },
  {
   "cell_type": "code",
   "execution_count": null,
   "metadata": {},
   "outputs": [],
   "source": [
    "cone == cone"
   ]
  },
  {
   "cell_type": "markdown",
   "metadata": {},
   "source": [
    "## Exercise 5 - Orbit computation\n",
    "\n",
    "Compute the orbit and stabilizer of the cone `c` under the group `g`. What is the size of the orbit."
   ]
  },
  {
   "cell_type": "code",
   "execution_count": null,
   "metadata": {},
   "outputs": [],
   "source": [
    "c = @pm Polytope.Cone(INPUT_RAYS=[1 2 3; 2 4 7; 1 0 3])"
   ]
  },
  {
   "cell_type": "code",
   "execution_count": null,
   "metadata": {},
   "outputs": [],
   "source": [
    "g = GAP.Globals.SymmetricGroup(3)"
   ]
  }
 ],
 "metadata": {
  "@webio": {
   "lastCommId": "a06d682899da492683d987c5933e1129",
   "lastKernelId": "4f88efb4-39c4-47cc-ae05-c64831ef0e45"
  },
  "kernelspec": {
   "display_name": "Julia 1.1.0",
   "language": "julia",
   "name": "julia-1.1"
  },
  "language_info": {
   "file_extension": ".jl",
   "mimetype": "application/julia",
   "name": "julia",
   "version": "1.1.0"
  }
 },
 "nbformat": 4,
 "nbformat_minor": 2
}
