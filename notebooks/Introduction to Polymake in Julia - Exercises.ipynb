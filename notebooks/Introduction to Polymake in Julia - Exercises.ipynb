{
 "cells": [
  {
   "cell_type": "markdown",
   "metadata": {},
   "source": [
    "# Introduction to Polymake in Julia - Exercises"
   ]
  },
  {
   "cell_type": "code",
   "execution_count": 1,
   "metadata": {},
   "outputs": [
    {
     "name": "stdout",
     "output_type": "stream",
     "text": [
      "polymake version 3.3\n",
      "Copyright (c) 1997-2019\n",
      "Ewgenij Gawrilow, Michael Joswig (TU Berlin)\n",
      "https://polymake.org\n",
      "\n",
      "This is free software licensed under GPL; see the source for copying conditions.\n",
      "There is NO warranty; not even for MERCHANTABILITY or FITNESS FOR A PARTICULAR PURPOSE.\n",
      "\n"
     ]
    },
    {
     "name": "stderr",
     "output_type": "stream",
     "text": [
      "┌ Info: Recompiling stale cache file /home/sebastian/Software/GAPJulia/.julia/compiled/v1.1/GAP/YqHod.ji for GAP [c863536a-3901-11e9-33e7-d5cd0df7b904]\n",
      "└ @ Base loading.jl:1184\n"
     ]
    },
    {
     "name": "stdout",
     "output_type": "stream",
     "text": [
      "Adding path /home/sebastian/Software/GAPJulia/gap/.libs to DL_LOAD_PATH\n",
      " ┌───────┐   GAP 4.dev of today\n",
      " │  GAP  │   https://www.gap-system.org\n",
      " └───────┘   Architecture: x86_64-pc-linux-gnu-julia64-kv6\n",
      " Configuration:  gmp 6.1.2, Julia GC, Julia 1.1.0, readline\n",
      " Loading the library and packages ...\n",
      " Packages:   GAPDoc 1.6.1, PrimGrp 3.3.1, SmallGrp 1.3, TransGrp 2.0.4\n",
      " Try '??help' for help. See also '?copyright', '?cite' and '?authors'\n"
     ]
    }
   ],
   "source": [
    "using Polymake\n",
    "using GAP"
   ]
  },
  {
   "cell_type": "markdown",
   "metadata": {},
   "source": [
    "In this exercise sheet, we will practise working with Polymake in Julia, and combine it with using GAP. The functions implemented in this exercise sheet are part of the implementation of the GIT fan by Böhm, Keicher, Ren."
   ]
  },
  {
   "cell_type": "markdown",
   "metadata": {},
   "source": [
    "## Exercise 1 - Intersecting two cones\n",
    "\n",
    "Write a function `intersect` that computes the intersection of two Polymake polytopes as a polymake polytope, without using the Polymake intersection method"
   ]
  },
  {
   "cell_type": "code",
   "execution_count": 2,
   "metadata": {},
   "outputs": [
    {
     "data": {
      "text/plain": [
       "intersect (generic function with 1 method)"
      ]
     },
     "execution_count": 2,
     "metadata": {},
     "output_type": "execute_result"
    }
   ],
   "source": [
    "function intersect(p1,p2)\n",
    "end"
   ]
  },
  {
   "cell_type": "markdown",
   "metadata": {},
   "source": [
    "## Exercise 2 - Fans\n",
    "\n",
    "Write a function that computes the intersection fan of a list of cones, i.e., the fan that is constructed from the cones and possibly their intersections"
   ]
  },
  {
   "cell_type": "code",
   "execution_count": 3,
   "metadata": {},
   "outputs": [
    {
     "data": {
      "text/plain": [
       "intersection_fan (generic function with 1 method)"
      ]
     },
     "execution_count": 3,
     "metadata": {},
     "output_type": "execute_result"
    }
   ],
   "source": [
    "function intersection_fan(list::Array)\n",
    "end"
   ]
  },
  {
   "cell_type": "markdown",
   "metadata": {},
   "source": [
    "## Exercise 3 - Operating on cones\n",
    "\n",
    "Write a function that applies a GAP permutation on $n$ points to a cone of dimension $n$, permuting the coordinates."
   ]
  },
  {
   "cell_type": "code",
   "execution_count": 4,
   "metadata": {},
   "outputs": [
    {
     "data": {
      "text/plain": [
       "action (generic function with 1 method)"
      ]
     },
     "execution_count": 4,
     "metadata": {},
     "output_type": "execute_result"
    }
   ],
   "source": [
    "function action(perm,cone)\n",
    "end"
   ]
  },
  {
   "cell_type": "markdown",
   "metadata": {},
   "source": [
    "## Exercise 4 - Ordering Cones\n",
    "\n",
    "For technical reasons, GAP needs to be able to order and compare elements it wants to compute an orbit of.\n",
    "Write Julia function for `isless` and `==` that provide an arbitrary but fixed order on cones."
   ]
  },
  {
   "cell_type": "markdown",
   "metadata": {},
   "source": [
    "## Exercise 5 - Orbit computation\n",
    "\n",
    "Compute the orbit and stabilizer of the cone `c` under the group `g`. What is the size of the orbit."
   ]
  },
  {
   "cell_type": "code",
   "execution_count": null,
   "metadata": {},
   "outputs": [],
   "source": []
  }
 ],
 "metadata": {
  "@webio": {
   "lastCommId": "345a4ea768cd4f8187f15d8040c7bc6c",
   "lastKernelId": "43148f7c-a1fd-4f30-8d32-bad08e7df75c"
  },
  "kernelspec": {
   "display_name": "Julia 1.1.0",
   "language": "julia",
   "name": "julia-1.1"
  },
  "language_info": {
   "file_extension": ".jl",
   "mimetype": "application/julia",
   "name": "julia",
   "version": "1.1.0"
  }
 },
 "nbformat": 4,
 "nbformat_minor": 2
}
