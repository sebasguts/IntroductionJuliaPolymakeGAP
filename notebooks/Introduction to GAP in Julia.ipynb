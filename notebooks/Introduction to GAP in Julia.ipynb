{
 "cells": [
  {
   "cell_type": "markdown",
   "metadata": {
    "slideshow": {
     "slide_type": "slide"
    }
   },
   "source": [
    "# Lesson 2: Introduction to GAP in Julia\n",
    "\n",
    "The Julia module `GAP.jl` provides access to all GAP types and functions\n",
    "from GAP in Julia."
   ]
  },
  {
   "cell_type": "code",
   "execution_count": 1,
   "metadata": {
    "slideshow": {
     "slide_type": "fragment"
    }
   },
   "outputs": [
    {
     "name": "stdout",
     "output_type": "stream",
     "text": [
      "Adding path /home/sebastian/Software/GAPJulia/gap/.libs to DL_LOAD_PATH\n",
      " ┌───────┐   GAP 4.dev of today\n",
      " │  GAP  │   https://www.gap-system.org\n",
      " └───────┘   Architecture: x86_64-pc-linux-gnu-julia64-kv6\n",
      " Configuration:  gmp 6.1.2, Julia GC, Julia 1.1.0, readline\n",
      " Loading the library and packages ...\n",
      " Packages:   GAPDoc 1.6.1, PrimGrp 3.3.1, SmallGrp 1.3, TransGrp 2.0.4\n",
      " Try '??help' for help. See also '?copyright', '?cite' and '?authors'\n"
     ]
    }
   ],
   "source": [
    "using GAP"
   ]
  },
  {
   "cell_type": "markdown",
   "metadata": {
    "slideshow": {
     "slide_type": "fragment"
    }
   },
   "source": [
    "In this lesson, we will mostly learn how to access GAP from Julia, and about some very specific functionality. \n",
    "\n",
    "To learn more about what functionality GAP offers, consider looking at the [GAP Tutorials](https://www.gap-system.org/Manuals/doc/tut/chap0.html)"
   ]
  },
  {
   "cell_type": "markdown",
   "metadata": {
    "slideshow": {
     "slide_type": "slide"
    }
   },
   "source": [
    "## Converting data between GAP and Julia\n",
    "\n",
    "To convert data from GAP to Julia, use the `GAP.julia_to_gap` command"
   ]
  },
  {
   "cell_type": "code",
   "execution_count": 2,
   "metadata": {
    "slideshow": {
     "slide_type": "fragment"
    }
   },
   "outputs": [
    {
     "data": {
      "text/plain": [
       "GAP: 1."
      ]
     },
     "execution_count": 2,
     "metadata": {},
     "output_type": "execute_result"
    }
   ],
   "source": [
    "GAP.julia_to_gap(1.)"
   ]
  },
  {
   "cell_type": "code",
   "execution_count": 3,
   "metadata": {},
   "outputs": [
    {
     "data": {
      "text/plain": [
       "GAP: [ 1, 2, 3, 42 ]"
      ]
     },
     "execution_count": 3,
     "metadata": {},
     "output_type": "execute_result"
    }
   ],
   "source": [
    "GAP.julia_to_gap([1,2,3,42])"
   ]
  },
  {
   "cell_type": "markdown",
   "metadata": {
    "slideshow": {
     "slide_type": "slide"
    }
   },
   "source": [
    "We can also directly evaluate GAP strings from Julia, getting back the constructed data"
   ]
  },
  {
   "cell_type": "markdown",
   "metadata": {
    "slideshow": {
     "slide_type": "fragment"
    }
   },
   "source": [
    "Here we construct a GAP record (dictionary) via a string."
   ]
  },
  {
   "cell_type": "code",
   "execution_count": 4,
   "metadata": {},
   "outputs": [
    {
     "data": {
      "text/plain": [
       "GAP: rec( foo := 1 )"
      ]
     },
     "execution_count": 4,
     "metadata": {},
     "output_type": "execute_result"
    }
   ],
   "source": [
    "dic = GAP.EvalString(\"rec( foo := 1 )\")"
   ]
  },
  {
   "cell_type": "markdown",
   "metadata": {
    "slideshow": {
     "slide_type": "fragment"
    }
   },
   "source": [
    "We can also create permutations in GAP. Note that there is no direct way to convert them back to Julia"
   ]
  },
  {
   "cell_type": "code",
   "execution_count": 5,
   "metadata": {},
   "outputs": [
    {
     "data": {
      "text/plain": [
       "GAP: (1,2,3,4)"
      ]
     },
     "execution_count": 5,
     "metadata": {},
     "output_type": "execute_result"
    }
   ],
   "source": [
    "perm = GAP.EvalString(\"(1,2,3,4)\")"
   ]
  },
  {
   "cell_type": "markdown",
   "metadata": {
    "slideshow": {
     "slide_type": "slide"
    }
   },
   "source": [
    "To convert data back to Julia, use the GAP.gap_to_julia command. Because of Julia's type stability and because there are more types in Julia than in GAP, we need to provide a type for the conversion"
   ]
  },
  {
   "cell_type": "code",
   "execution_count": 6,
   "metadata": {},
   "outputs": [
    {
     "data": {
      "text/plain": [
       "2-element Array{Array{Int64,1},1}:\n",
       " [1, 2]\n",
       " [3, 4]"
      ]
     },
     "execution_count": 6,
     "metadata": {},
     "output_type": "execute_result"
    }
   ],
   "source": [
    "l = GAP.EvalString(\"[[1,2],[3,4]]\")\n",
    "GAP.gap_to_julia(Array{Array{Int64,1},1},l)"
   ]
  },
  {
   "cell_type": "code",
   "execution_count": 7,
   "metadata": {},
   "outputs": [
    {
     "data": {
      "text/plain": [
       "2-element Array{Array{BigInt,1},1}:\n",
       " [1, 2]\n",
       " [3, 4]"
      ]
     },
     "execution_count": 7,
     "metadata": {},
     "output_type": "execute_result"
    }
   ],
   "source": [
    "GAP.gap_to_julia(Array{Array{BigInt,1},1},l)"
   ]
  },
  {
   "cell_type": "markdown",
   "metadata": {
    "slideshow": {
     "slide_type": "slide"
    }
   },
   "source": [
    "### Convenience for accessing GAP objects"
   ]
  },
  {
   "cell_type": "markdown",
   "metadata": {
    "slideshow": {
     "slide_type": "fragment"
    }
   },
   "source": [
    "GAP lists can be accessed using `[]` operators"
   ]
  },
  {
   "cell_type": "code",
   "execution_count": 8,
   "metadata": {},
   "outputs": [
    {
     "data": {
      "text/plain": [
       "1"
      ]
     },
     "execution_count": 8,
     "metadata": {},
     "output_type": "execute_result"
    }
   ],
   "source": [
    "l = GAP.julia_to_gap([1,2,3])\n",
    "l[1]"
   ]
  },
  {
   "cell_type": "markdown",
   "metadata": {
    "slideshow": {
     "slide_type": "slide"
    }
   },
   "source": [
    "Records can be accessed using `.`, to mimic the appearance they have in GAP."
   ]
  },
  {
   "cell_type": "code",
   "execution_count": 9,
   "metadata": {},
   "outputs": [
    {
     "data": {
      "text/plain": [
       "1"
      ]
     },
     "execution_count": 9,
     "metadata": {},
     "output_type": "execute_result"
    }
   ],
   "source": [
    "l = GAP.julia_to_gap(Dict(:foo => 1))\n",
    "l.foo"
   ]
  },
  {
   "cell_type": "markdown",
   "metadata": {
    "slideshow": {
     "slide_type": "fragment"
    }
   },
   "source": [
    "Note that this is different from dictionary access in Julia, using `[]` to access the entries"
   ]
  },
  {
   "cell_type": "markdown",
   "metadata": {
    "slideshow": {
     "slide_type": "slide"
    }
   },
   "source": [
    "Most operators, like `+`, `*`, etc., can directly applied to GAP objects"
   ]
  },
  {
   "cell_type": "code",
   "execution_count": 10,
   "metadata": {},
   "outputs": [
    {
     "data": {
      "text/plain": [
       "GAP: (1,3)"
      ]
     },
     "execution_count": 10,
     "metadata": {},
     "output_type": "execute_result"
    }
   ],
   "source": [
    "perm1 = GAP.EvalString(\"(1,2,3)\")\n",
    "perm2 = GAP.EvalString(\"(1,2)\")\n",
    "perm2*perm1"
   ]
  },
  {
   "cell_type": "markdown",
   "metadata": {
    "slideshow": {
     "slide_type": "slide"
    }
   },
   "source": [
    "## Calling GAP functions\n",
    "\n",
    "To convert the permutation back to Julia, we need to convert it to a list first"
   ]
  },
  {
   "cell_type": "code",
   "execution_count": 11,
   "metadata": {},
   "outputs": [
    {
     "data": {
      "text/plain": [
       "GAP: [ 2, 3, 4, 1 ]"
      ]
     },
     "execution_count": 11,
     "metadata": {},
     "output_type": "execute_result"
    }
   ],
   "source": [
    "perm_list = GAP.Globals.ListPerm(perm)"
   ]
  },
  {
   "cell_type": "code",
   "execution_count": 12,
   "metadata": {},
   "outputs": [
    {
     "data": {
      "text/plain": [
       "4-element Array{Int64,1}:\n",
       " 2\n",
       " 3\n",
       " 4\n",
       " 1"
      ]
     },
     "execution_count": 12,
     "metadata": {},
     "output_type": "execute_result"
    }
   ],
   "source": [
    "GAP.gap_to_julia(Array{Int64,1},perm_list)"
   ]
  },
  {
   "cell_type": "markdown",
   "metadata": {
    "slideshow": {
     "slide_type": "fragment"
    }
   },
   "source": [
    "All GAP functions (and global variables) can be accessed using `GAP.Globals.<name>`. Further, all functions can be called."
   ]
  },
  {
   "cell_type": "markdown",
   "metadata": {
    "slideshow": {
     "slide_type": "slide"
    }
   },
   "source": [
    "## Working with GAP\n"
   ]
  },
  {
   "cell_type": "markdown",
   "metadata": {
    "slideshow": {
     "slide_type": "slide"
    }
   },
   "source": [
    "### Working with permutation groups"
   ]
  },
  {
   "cell_type": "markdown",
   "metadata": {},
   "source": [
    "We can create standard groups using some GAP commands"
   ]
  },
  {
   "cell_type": "code",
   "execution_count": 13,
   "metadata": {
    "slideshow": {
     "slide_type": "fragment"
    }
   },
   "outputs": [
    {
     "data": {
      "text/plain": [
       "GAP: SymmetricGroup( [ 1 .. 5 ] )"
      ]
     },
     "execution_count": 13,
     "metadata": {},
     "output_type": "execute_result"
    }
   ],
   "source": [
    "S5 = GAP.Globals.SymmetricGroup(5)"
   ]
  },
  {
   "cell_type": "code",
   "execution_count": 14,
   "metadata": {},
   "outputs": [
    {
     "data": {
      "text/plain": [
       "GAP: AlternatingGroup( [ 1 .. 5 ] )"
      ]
     },
     "execution_count": 14,
     "metadata": {},
     "output_type": "execute_result"
    }
   ],
   "source": [
    "A5 = GAP.Globals.AlternatingGroup(5)"
   ]
  },
  {
   "cell_type": "markdown",
   "metadata": {
    "slideshow": {
     "slide_type": "slide"
    }
   },
   "source": [
    "There is a lot of functionality to explore groups in GAP"
   ]
  },
  {
   "cell_type": "code",
   "execution_count": 15,
   "metadata": {
    "slideshow": {
     "slide_type": "fragment"
    }
   },
   "outputs": [
    {
     "data": {
      "text/plain": [
       "GAP: [ (1,2,3,4,5), (3,4,5) ]"
      ]
     },
     "execution_count": 15,
     "metadata": {},
     "output_type": "execute_result"
    }
   ],
   "source": [
    "GAP.Globals.GeneratorsOfGroup(A5)"
   ]
  },
  {
   "cell_type": "code",
   "execution_count": 16,
   "metadata": {
    "slideshow": {
     "slide_type": "fragment"
    }
   },
   "outputs": [
    {
     "data": {
      "text/plain": [
       "60"
      ]
     },
     "execution_count": 16,
     "metadata": {},
     "output_type": "execute_result"
    }
   ],
   "source": [
    "GAP.Globals.Size(A5)"
   ]
  },
  {
   "cell_type": "markdown",
   "metadata": {
    "slideshow": {
     "slide_type": "fragment"
    }
   },
   "source": [
    "We encounter that, as long as we can work with GAP objects, we do not need to do any conversion between GAP and Julia"
   ]
  },
  {
   "cell_type": "markdown",
   "metadata": {
    "slideshow": {
     "slide_type": "slide"
    }
   },
   "source": [
    "### Orbits and Stabilizers"
   ]
  },
  {
   "cell_type": "markdown",
   "metadata": {},
   "source": [
    "We want to compute orbits of several $S_{10}$ actions, first by converting data to GAP."
   ]
  },
  {
   "cell_type": "code",
   "execution_count": 17,
   "metadata": {
    "slideshow": {
     "slide_type": "slide"
    }
   },
   "outputs": [
    {
     "data": {
      "text/plain": [
       "GAP: SymmetricGroup( [ 1 .. 10 ] )"
      ]
     },
     "execution_count": 17,
     "metadata": {},
     "output_type": "execute_result"
    }
   ],
   "source": [
    "S10 = GAP.Globals.SymmetricGroup(10)"
   ]
  },
  {
   "cell_type": "markdown",
   "metadata": {
    "slideshow": {
     "slide_type": "fragment"
    }
   },
   "source": [
    "We start by computing the orbit of $1$ under $S_{10}$"
   ]
  },
  {
   "cell_type": "code",
   "execution_count": 18,
   "metadata": {},
   "outputs": [
    {
     "data": {
      "text/plain": [
       "GAP: [ 1, 2, 3, 4, 5, 6, 7, 8, 9, 10 ]"
      ]
     },
     "execution_count": 18,
     "metadata": {},
     "output_type": "execute_result"
    }
   ],
   "source": [
    "GAP.Globals.Orbit( S10, 1, GAP.Globals.OnPoints )"
   ]
  },
  {
   "cell_type": "markdown",
   "metadata": {
    "slideshow": {
     "slide_type": "fragment"
    }
   },
   "source": [
    "Small integers get automatically converted from/to GAP, so we do not need to convert here."
   ]
  },
  {
   "cell_type": "markdown",
   "metadata": {
    "slideshow": {
     "slide_type": "slide"
    }
   },
   "source": [
    "We now want to compute the orbit of $\\{1,2,3\\}$"
   ]
  },
  {
   "cell_type": "code",
   "execution_count": 19,
   "metadata": {},
   "outputs": [
    {
     "data": {
      "text/plain": [
       "GAP: [ 1, 2, 3 ]"
      ]
     },
     "execution_count": 19,
     "metadata": {},
     "output_type": "execute_result"
    }
   ],
   "source": [
    "set = GAP.julia_to_gap([1,2,3])"
   ]
  },
  {
   "cell_type": "code",
   "execution_count": 20,
   "metadata": {
    "slideshow": {
     "slide_type": "fragment"
    }
   },
   "outputs": [
    {
     "data": {
      "text/plain": [
       "GAP: [ [ 1, 2, 3 ], [ 2, 3, 4 ], [ 3, 4, 5 ], [ 1, 3, 4 ], [ 4, 5, 6 ], [ 2, 4, 5 ], [ 5, 6, 7 ], [ 3, 5, 6 ], [ 1, 4, 5 ], [ 6, 7, 8 ], [ 4, 6, 7 ], [ 2, 5, 6 ], [ 7, 8, 9 ], [ 5, 7, 8 ], [ 3, 6, 7 ], [ 1, 5, 6 ], [ 8, 9, 10 ], [ 6, 8, 9 ], [ 4, 7, 8 ], [ 2, 6, 7 ], [ 1, 9, 10 ], [ 7, 9, 10 ], [ 5, 8, 9 ], [ 3, 7, 8 ], [ 1, 6, 7 ], [ 1, 2, 10 ], [ 2, 9, 10 ], [ 1, 8, 10 ], [ 6, 9, 10 ], [ 4, 8, 9 ], [ 2, 7, 8 ], [ 1, 3, 10 ], [ 1, 2, 9 ], [ 2, 8, 10 ], [ 1, 7, 10 ], [ 5, 9, 10 ], [ 3, 8, 9 ], [ 1, 7, 8 ], [ 1, 2, 4 ], [ 2, 3, 10 ], [ 1, 3, 9 ], [ 1, 2, 8 ], [ 2, 7, 10 ], [ 1, 6, 10 ], [ 4, 9, 10 ], [ 2, 8, 9 ], [ 2, 3, 5 ], [ 2, 4, 10 ], [ 2, 3, 9 ], [ 1, 3, 8 ], [ 1, 2, 7 ], [ 2, 6, 10 ], [ 1, 5, 10 ], [ 3, 9, 10 ], [ 1, 8, 9 ], [ 3, 4, 6 ], [ 1, 3, 5 ], [ 1, 4, 10 ], [ 3, 4, 10 ], [ 2, 4, 9 ], [ 2, 3, 8 ], [ 1, 3, 7 ], [ 1, 2, 6 ], [ 2, 5, 10 ], [ 4, 5, 7 ], [ 2, 4, 6 ], [ 1, 2, 5 ], [ 3, 5, 10 ], [ 1, 4, 9 ], [ 3, 4, 9 ], [ 2, 4, 8 ], [ 2, 3, 7 ], [ 1, 3, 6 ], [ 5, 6, 8 ], [ 3, 5, 7 ], [ 1, 4, 6 ], [ 2, 3, 6 ], [ 4, 5, 10 ], [ 3, 5, 9 ], [ 1, 4, 8 ], [ 3, 4, 8 ], [ 2, 4, 7 ], [ 6, 7, 9 ], [ 4, 6, 8 ], [ 2, 5, 7 ], [ 3, 4, 7 ], [ 4, 6, 10 ], [ 2, 5, 9 ], [ 4, 5, 9 ], [ 3, 5, 8 ], [ 1, 4, 7 ], [ 7, 8, 10 ], [ 5, 7, 9 ], [ 3, 6, 8 ], [ 1, 5, 7 ], [ 4, 5, 8 ], [ 3, 6, 10 ], [ 1, 5, 9 ], [ 5, 6, 10 ], [ 4, 6, 9 ], [ 2, 5, 8 ], [ 6, 8, 10 ], [ 4, 7, 9 ], [ 2, 6, 8 ], [ 5, 6, 9 ], [ 5, 7, 10 ], [ 3, 6, 9 ], [ 1, 5, 8 ], [ 1, 7, 9 ], [ 5, 8, 10 ], [ 3, 7, 9 ], [ 1, 6, 8 ], [ 6, 7, 10 ], [ 4, 7, 10 ], [ 2, 6, 9 ], [ 2, 7, 9 ], [ 1, 6, 9 ], [ 4, 8, 10 ], [ 3, 7, 10 ], [ 3, 8, 10 ] ]"
      ]
     },
     "execution_count": 20,
     "metadata": {},
     "output_type": "execute_result"
    }
   ],
   "source": [
    "orbit = GAP.Globals.Orbit( S10, set, GAP.Globals.OnSets )"
   ]
  },
  {
   "cell_type": "markdown",
   "metadata": {
    "slideshow": {
     "slide_type": "slide"
    }
   },
   "source": [
    "We can first have a look at the cardinality of the orbit"
   ]
  },
  {
   "cell_type": "code",
   "execution_count": 21,
   "metadata": {},
   "outputs": [
    {
     "data": {
      "text/plain": [
       "120"
      ]
     },
     "execution_count": 21,
     "metadata": {},
     "output_type": "execute_result"
    }
   ],
   "source": [
    "length(orbit)"
   ]
  },
  {
   "cell_type": "markdown",
   "metadata": {
    "slideshow": {
     "slide_type": "fragment"
    }
   },
   "source": [
    "and see that it is the full set of $3$-element subsets of $\\underline{10}$"
   ]
  },
  {
   "cell_type": "code",
   "execution_count": 22,
   "metadata": {},
   "outputs": [
    {
     "data": {
      "text/plain": [
       "120"
      ]
     },
     "execution_count": 22,
     "metadata": {},
     "output_type": "execute_result"
    }
   ],
   "source": [
    "binomial(10,3)"
   ]
  },
  {
   "cell_type": "markdown",
   "metadata": {
    "slideshow": {
     "slide_type": "slide"
    }
   },
   "source": [
    "To convert the orbit back, we can use the `gap_to_julia` function"
   ]
  },
  {
   "cell_type": "code",
   "execution_count": 23,
   "metadata": {},
   "outputs": [
    {
     "data": {
      "text/plain": [
       "120-element Array{Array{Int64,1},1}:\n",
       " [1, 2, 3] \n",
       " [2, 3, 4] \n",
       " [3, 4, 5] \n",
       " [1, 3, 4] \n",
       " [4, 5, 6] \n",
       " [2, 4, 5] \n",
       " [5, 6, 7] \n",
       " [3, 5, 6] \n",
       " [1, 4, 5] \n",
       " [6, 7, 8] \n",
       " [4, 6, 7] \n",
       " [2, 5, 6] \n",
       " [7, 8, 9] \n",
       " ⋮         \n",
       " [1, 7, 9] \n",
       " [5, 8, 10]\n",
       " [3, 7, 9] \n",
       " [1, 6, 8] \n",
       " [6, 7, 10]\n",
       " [4, 7, 10]\n",
       " [2, 6, 9] \n",
       " [2, 7, 9] \n",
       " [1, 6, 9] \n",
       " [4, 8, 10]\n",
       " [3, 7, 10]\n",
       " [3, 8, 10]"
      ]
     },
     "execution_count": 23,
     "metadata": {},
     "output_type": "execute_result"
    }
   ],
   "source": [
    "GAP.gap_to_julia(Array{Array{Int64,1},1},orbit)"
   ]
  },
  {
   "cell_type": "markdown",
   "metadata": {
    "slideshow": {
     "slide_type": "slide"
    }
   },
   "source": [
    "Converting data back and forth from and to Julia can be quite a hassle. We can also compute orbits on proper Julia objects. We start by computing objects of tuples.\n",
    "\n",
    "To operate on tuples, we need to define an operation on a tuple."
   ]
  },
  {
   "cell_type": "code",
   "execution_count": 24,
   "metadata": {
    "slideshow": {
     "slide_type": "fragment"
    }
   },
   "outputs": [
    {
     "data": {
      "text/plain": [
       "oper (generic function with 1 method)"
      ]
     },
     "execution_count": 24,
     "metadata": {},
     "output_type": "execute_result"
    }
   ],
   "source": [
    "oper(tuple::Tuple,perm::GAP.MPtr) =  Tuple( i^perm for i in tuple )"
   ]
  },
  {
   "cell_type": "code",
   "execution_count": 25,
   "metadata": {
    "slideshow": {
     "slide_type": "slide"
    }
   },
   "outputs": [
    {
     "data": {
      "text/plain": [
       "(1, 2, 3)"
      ]
     },
     "execution_count": 25,
     "metadata": {},
     "output_type": "execute_result"
    }
   ],
   "source": [
    "orb_tuples = GAP.Globals.Orbit( S10, (1,2,3), GAP.julia_to_gap( oper ) );\n",
    "orb_tuples[1]"
   ]
  },
  {
   "cell_type": "code",
   "execution_count": 26,
   "metadata": {
    "slideshow": {
     "slide_type": "fragment"
    }
   },
   "outputs": [
    {
     "data": {
      "text/plain": [
       "Tuple{Int64,Int64,Int64}"
      ]
     },
     "execution_count": 26,
     "metadata": {},
     "output_type": "execute_result"
    }
   ],
   "source": [
    "typeof(orb_tuples[1])"
   ]
  },
  {
   "cell_type": "code",
   "execution_count": 27,
   "metadata": {
    "slideshow": {
     "slide_type": "fragment"
    }
   },
   "outputs": [
    {
     "ename": "MethodError",
     "evalue": "MethodError: no method matching !(::Type{Tuple{Int64,Int64,Int64}})\nClosest candidates are:\n  !(!Matched::Missing) at missing.jl:83\n  !(!Matched::Bool) at bool.jl:35\n  !(!Matched::Function) at operators.jl:853",
     "output_type": "error",
     "traceback": [
      "MethodError: no method matching !(::Type{Tuple{Int64,Int64,Int64}})\nClosest candidates are:\n  !(!Matched::Missing) at missing.jl:83\n  !(!Matched::Bool) at bool.jl:35\n  !(!Matched::Function) at operators.jl:853",
      "",
      "Stacktrace:",
      " [1] gap_to_julia(::Type{Tuple{Int64,Int64,Int64}}, ::Tuple{Int64,Int64,Int64}) at /home/sebastian/Software/GAPJulia/.julia/dev/GAP/pkg/GAPJulia/JuliaInterface/julia/gap_to_julia.jl:15",
      " [2] gap_to_julia(::Type, ::Tuple{Int64,Int64,Int64}, ::IdDict{Any,Any}) at /home/sebastian/Software/GAPJulia/.julia/dev/GAP/pkg/GAPJulia/JuliaInterface/julia/gap_to_julia.jl:112",
      " [3] gap_to_julia(::Type{Array{Tuple{Int64,Int64,Int64},1}}, ::Main.ForeignGAP.MPtr, ::IdDict{Any,Any}) at /home/sebastian/Software/GAPJulia/.julia/dev/GAP/pkg/GAPJulia/JuliaInterface/julia/gap_to_julia.jl:165",
      " [4] gap_to_julia(::Type{Array{Tuple{Int64,Int64,Int64},1}}, ::Main.ForeignGAP.MPtr) at /home/sebastian/Software/GAPJulia/.julia/dev/GAP/pkg/GAPJulia/JuliaInterface/julia/gap_to_julia.jl:151",
      " [5] top-level scope at In[27]:1"
     ]
    }
   ],
   "source": [
    "orb_tuples_conv = GAP.gap_to_julia(Array{Tuple{Int64,Int64,Int64},1},orb_tuples);\n",
    "typeof(orb_tuples_conv)"
   ]
  },
  {
   "cell_type": "markdown",
   "metadata": {
    "slideshow": {
     "slide_type": "slide"
    }
   },
   "source": [
    "### Stabilizers\n",
    "\n",
    "We can use GAP to compute the stabilizer of an object, too"
   ]
  },
  {
   "cell_type": "code",
   "execution_count": 28,
   "metadata": {
    "slideshow": {
     "slide_type": "fragment"
    }
   },
   "outputs": [
    {
     "data": {
      "text/plain": [
       "GAP: Group( [ (9,10), (8,9), (7,8), (6,7), (5,6), (4,5) ] )"
      ]
     },
     "execution_count": 28,
     "metadata": {},
     "output_type": "execute_result"
    }
   ],
   "source": [
    "stab = GAP.Globals.Stabilizer(S10,(1,2,3),GAP.julia_to_gap(oper))"
   ]
  },
  {
   "cell_type": "code",
   "execution_count": 29,
   "metadata": {
    "slideshow": {
     "slide_type": "fragment"
    }
   },
   "outputs": [
    {
     "data": {
      "text/plain": [
       "5040"
      ]
     },
     "execution_count": 29,
     "metadata": {},
     "output_type": "execute_result"
    }
   ],
   "source": [
    "GAP.Globals.Size(stab)"
   ]
  },
  {
   "cell_type": "code",
   "execution_count": 30,
   "metadata": {
    "slideshow": {
     "slide_type": "fragment"
    }
   },
   "outputs": [
    {
     "data": {
      "text/plain": [
       "GAP: S7"
      ]
     },
     "execution_count": 30,
     "metadata": {},
     "output_type": "execute_result"
    }
   ],
   "source": [
    "GAP.Globals.StructureDescription(stab)"
   ]
  }
 ],
 "metadata": {
  "@webio": {
   "lastCommId": "134eed67deeb4b4eb28a185e32ec9f18",
   "lastKernelId": "4242e93b-b70a-4c01-b5a0-e74689529dad"
  },
  "celltoolbar": "Slideshow",
  "kernelspec": {
   "display_name": "Julia 1.1.0",
   "language": "julia",
   "name": "julia-1.1"
  },
  "language_info": {
   "file_extension": ".jl",
   "mimetype": "application/julia",
   "name": "julia",
   "version": "1.1.0"
  }
 },
 "nbformat": 4,
 "nbformat_minor": 2
}
