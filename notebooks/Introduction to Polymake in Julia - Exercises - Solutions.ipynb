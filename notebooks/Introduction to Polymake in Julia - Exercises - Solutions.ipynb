{
 "cells": [
  {
   "cell_type": "markdown",
   "metadata": {},
   "source": [
    "# Introduction to Polymake in Julia - Exercises"
   ]
  },
  {
   "cell_type": "code",
   "execution_count": 1,
   "metadata": {},
   "outputs": [
    {
     "name": "stdout",
     "output_type": "stream",
     "text": [
      "polymake version 3.3\n",
      "Copyright (c) 1997-2019\n",
      "Ewgenij Gawrilow, Michael Joswig (TU Berlin)\n",
      "https://polymake.org\n",
      "\n",
      "This is free software licensed under GPL; see the source for copying conditions.\n",
      "There is NO warranty; not even for MERCHANTABILITY or FITNESS FOR A PARTICULAR PURPOSE.\n",
      "\n",
      "Adding path /home/sebastian/Software/GAPJulia/gap/.libs to DL_LOAD_PATH\n",
      " ┌───────┐   GAP 4.dev of today\n",
      " │  GAP  │   https://www.gap-system.org\n",
      " └───────┘   Architecture: x86_64-pc-linux-gnu-julia64-kv6\n",
      " Configuration:  gmp 6.1.2, Julia GC, Julia 1.1.0, readline\n",
      " Loading the library and packages ...\n",
      " Packages:   GAPDoc 1.6.1, PrimGrp 3.3.1, SmallGrp 1.3, TransGrp 2.0.4\n",
      " Try '??help' for help. See also '?copyright', '?cite' and '?authors'\n"
     ]
    }
   ],
   "source": [
    "using Polymake\n",
    "using GAP"
   ]
  },
  {
   "cell_type": "markdown",
   "metadata": {},
   "source": [
    "In this exercise sheet, we will practise working with Polymake in Julia, and combine it with using GAP. The functions implemented in this exercise sheet are part of the implementation of the GIT fan by Böhm, Keicher, Ren."
   ]
  },
  {
   "cell_type": "markdown",
   "metadata": {},
   "source": [
    "## Exercise 1 - Intersecting two cones\n",
    "\n",
    "Write a function `intersect` that computes the intersection of two (pointed) Polymake cones as a polymake cone, without using the Polymake intersection method.\n",
    "\n",
    "Hint: You can get the defining inequalities of a Cone `c` via `c.FACETS`"
   ]
  },
  {
   "cell_type": "code",
   "execution_count": 2,
   "metadata": {},
   "outputs": [
    {
     "data": {
      "text/plain": [
       "intersect (generic function with 1 method)"
      ]
     },
     "execution_count": 2,
     "metadata": {},
     "output_type": "execute_result"
    }
   ],
   "source": [
    "function intersect(p1,p2)\n",
    "    f1 = p1.FACETS\n",
    "    f2 = p2.FACETS\n",
    "    all_ineqs = vcat(f1,f2)\n",
    "    all_ineqs_jl = convert(Array{Rational{BigInt},2}, all_ineqs)\n",
    "    return @pm Polytope.Cone(INEQUALITIES=all_ineqs_jl)\n",
    "end"
   ]
  },
  {
   "cell_type": "code",
   "execution_count": 3,
   "metadata": {},
   "outputs": [
    {
     "name": "stderr",
     "output_type": "stream",
     "text": [
      "polymake: used package cdd\n",
      "  cddlib\n",
      "  Implementation of the double description method of Motzkin et al.\n",
      "  Copyright by Komei Fukuda.\n",
      "  http://www-oldurls.inf.ethz.ch/personal/fukudak/cdd_home/\n",
      "\n"
     ]
    },
    {
     "data": {
      "text/plain": [
       "pm::Matrix<pm::Rational>\n",
       "1 1 1\n",
       "1 0 0\n",
       "1 1 0\n"
      ]
     },
     "execution_count": 3,
     "metadata": {},
     "output_type": "execute_result"
    }
   ],
   "source": [
    "c1 = @pm Polytope.Cone(INPUT_RAYS=[1 0 0; 0 1 0; 0 0 1])\n",
    "c2 = @pm Polytope.Cone(INPUT_RAYS=[1 0 0; 1 1 0; 1 1 1])\n",
    "c3 = intersect(c1,c2)\n",
    "c3.RAYS"
   ]
  },
  {
   "cell_type": "markdown",
   "metadata": {},
   "source": [
    "## Exercise 2 - Interior lattice points of polytope\n",
    "\n",
    "Write a function that, for a given (full dimensional) cone, compute the set of hilbert basis elements that are not rays. You can either use `RAYS` or `INEQUALITIES`"
   ]
  },
  {
   "cell_type": "code",
   "execution_count": 4,
   "metadata": {},
   "outputs": [
    {
     "data": {
      "text/plain": [
       "interior_hilbert_element (generic function with 1 method)"
      ]
     },
     "execution_count": 4,
     "metadata": {},
     "output_type": "execute_result"
    }
   ],
   "source": [
    "function interior_hilbert_element(cone)\n",
    "    points = Polytope.hilbert_basis(cone)\n",
    "    facets = cone.FACETS\n",
    "    interior_points = []\n",
    "    for i in 1:size(points)[1]\n",
    "        current = true\n",
    "        for j in 1:size(facets)[1]\n",
    "            if sum(points[i,:] .* facets[j,:]) == 0\n",
    "                current = false\n",
    "                break\n",
    "            end\n",
    "        end\n",
    "        if current\n",
    "            push!(interior_points,points[i,:])\n",
    "        end\n",
    "    end\n",
    "    return convert(Vector{Vector{pm_Integer}},interior_points)\n",
    "end"
   ]
  },
  {
   "cell_type": "code",
   "execution_count": 5,
   "metadata": {},
   "outputs": [
    {
     "name": "stderr",
     "output_type": "stream",
     "text": [
      "polymake: used package libnormaliz\n",
      "  [[wiki:external_software#Normaliz]] is a tool for computations in affine monoids, vector configurations, lattice polytopes, and rational cones.\n",
      "  Copyright by Winfried Bruns, Bogdan Ichim, Christof Soeger.\n",
      "  http://www.math.uos.de/normaliz/\n",
      "\n"
     ]
    },
    {
     "data": {
      "text/plain": [
       "4-element Array{Array{pm_Integer,1},1}:\n",
       " [1, 1]\n",
       " [1, 2]\n",
       " [1, 3]\n",
       " [1, 4]"
      ]
     },
     "execution_count": 5,
     "metadata": {},
     "output_type": "execute_result"
    }
   ],
   "source": [
    "cone = @pm Polytope.Cone(INPUT_RAYS=[ 1 0 ; 1 5 ])\n",
    "xx = interior_hilbert_element(cone)"
   ]
  },
  {
   "cell_type": "markdown",
   "metadata": {},
   "source": [
    "## Exercise 3 - Operating on cones\n",
    "\n",
    "Write a function that applies a GAP permutation on $n$ points to a cone of dimension $n$, permuting the coordinates.\n",
    "\n",
    "Hint: The `@pm` macro matrices currently need to be made from Julia numbers. You can either use `Polymake.perlobj` to create the cone, or convert the integers."
   ]
  },
  {
   "cell_type": "code",
   "execution_count": 6,
   "metadata": {},
   "outputs": [
    {
     "data": {
      "text/plain": [
       "action (generic function with 1 method)"
      ]
     },
     "execution_count": 6,
     "metadata": {},
     "output_type": "execute_result"
    }
   ],
   "source": [
    "function action(cone,perm)\n",
    "    rays = cone.RAYS\n",
    "    new_rays = [ convert(Rational{BigInt},rays[j,i^perm]) for j in 1:size(rays)[1], i in 1:size(rays)[2] ]\n",
    "    return @pm Polytope.Cone(INPUT_RAYS=new_rays)\n",
    "end"
   ]
  },
  {
   "cell_type": "code",
   "execution_count": 7,
   "metadata": {},
   "outputs": [
    {
     "data": {
      "text/html": [
       "<details>\n",
       "<summary>Cone<Rational></summary>\n",
       "    <pre>\n",
       "\n",
       "INPUT_RAYS\n",
       "0 1\n",
       "1 1/5\n",
       "\n",
       "\n",
       "    </pre>\n",
       "</details>\n"
      ],
      "text/plain": [
       "type: Cone<Rational>\n",
       "\n",
       "INPUT_RAYS\n",
       "0 1\n",
       "1 1/5\n",
       "\n"
      ]
     },
     "execution_count": 7,
     "metadata": {},
     "output_type": "execute_result"
    }
   ],
   "source": [
    "cone = @pm Polytope.Cone(INPUT_RAYS=[ 1 0 ; 1 5 ])\n",
    "perm = GAP.EvalString(\"(1,2)\")\n",
    "action(cone,perm)"
   ]
  },
  {
   "cell_type": "markdown",
   "metadata": {},
   "source": [
    "## Exercise 4 - Ordering Cones\n",
    "\n",
    "For technical reasons, GAP needs to be able to order and compare elements it wants to compute an orbit of.\n",
    "Write Julia function for `isless` and `==` that provide an arbitrary but fixed order on cones."
   ]
  },
  {
   "cell_type": "code",
   "execution_count": 8,
   "metadata": {},
   "outputs": [],
   "source": [
    "function Base.isless(a::Polymake.pm_perl_Object,b::Polymake.pm_perl_Object)\n",
    "    mat1 = convert(Matrix{Rational{BigInt}},a.RAYS)\n",
    "    mat2 = convert(Matrix{Rational{BigInt}},b.RAYS)\n",
    "    return vcat(mat1...) < vcat(mat2...)\n",
    "end"
   ]
  },
  {
   "cell_type": "code",
   "execution_count": 9,
   "metadata": {},
   "outputs": [],
   "source": [
    "function Base.:(==)(a::Polymake.pm_perl_Object,b::Polymake.pm_perl_Object)\n",
    "    mat1 = convert(Matrix{Rational{BigInt}},a.RAYS)\n",
    "    mat2 = convert(Matrix{Rational{BigInt}},b.RAYS)\n",
    "    return vcat(mat1...) == vcat(mat2...)\n",
    "end"
   ]
  },
  {
   "cell_type": "code",
   "execution_count": 10,
   "metadata": {},
   "outputs": [
    {
     "data": {
      "text/plain": [
       "true"
      ]
     },
     "execution_count": 10,
     "metadata": {},
     "output_type": "execute_result"
    }
   ],
   "source": [
    "cone == cone"
   ]
  },
  {
   "cell_type": "markdown",
   "metadata": {},
   "source": [
    "## Exercise 5 - Orbit computation\n",
    "\n",
    "Compute the orbit and stabilizer of the cone `c` under the group `g`. What is the size of the orbit."
   ]
  },
  {
   "cell_type": "code",
   "execution_count": 11,
   "metadata": {},
   "outputs": [
    {
     "data": {
      "text/html": [
       "<details>\n",
       "<summary>Cone<Rational></summary>\n",
       "    <pre>\n",
       "\n",
       "INPUT_RAYS\n",
       "1 2 3\n",
       "1 2 7/2\n",
       "1 0 3\n",
       "\n",
       "\n",
       "    </pre>\n",
       "</details>\n"
      ],
      "text/plain": [
       "type: Cone<Rational>\n",
       "\n",
       "INPUT_RAYS\n",
       "1 2 3\n",
       "1 2 7/2\n",
       "1 0 3\n",
       "\n"
      ]
     },
     "execution_count": 11,
     "metadata": {},
     "output_type": "execute_result"
    }
   ],
   "source": [
    "c = @pm Polytope.Cone(INPUT_RAYS=[1 2 3; 2 4 7; 1 0 3])"
   ]
  },
  {
   "cell_type": "code",
   "execution_count": 12,
   "metadata": {},
   "outputs": [
    {
     "data": {
      "text/plain": [
       "GAP: SymmetricGroup( [ 1 .. 3 ] )"
      ]
     },
     "execution_count": 12,
     "metadata": {},
     "output_type": "execute_result"
    }
   ],
   "source": [
    "g = GAP.Globals.SymmetricGroup(3)"
   ]
  },
  {
   "cell_type": "code",
   "execution_count": 13,
   "metadata": {},
   "outputs": [
    {
     "data": {
      "text/plain": [
       "GAP: [ Polymake.pm_perl_ObjectAllocated(Ptr{Nothing} @0x0000000014a4c190), Polymake.pm_perl_ObjectAllocated(Ptr{Nothing} @0x0000000014a9f9f0), Polymake.pm_perl_ObjectAllocated(Ptr{Nothing} @0x0000000014aa77d0), Polymake.pm_perl_ObjectAllocated(Ptr{Nothing} @0x0000000014aa8ef0), Polymake.pm_perl_ObjectAllocated(Ptr{Nothing} @0x0000000014ac8390), Polymake.pm_perl_ObjectAllocated(Ptr{Nothing} @0x0000000014ac1190) ]"
      ]
     },
     "execution_count": 13,
     "metadata": {},
     "output_type": "execute_result"
    }
   ],
   "source": [
    "orb = GAP.Globals.Orbit(GAP.Globals.SymmetricGroup(3),c,GAP.julia_to_gap(action))"
   ]
  },
  {
   "cell_type": "code",
   "execution_count": 14,
   "metadata": {},
   "outputs": [
    {
     "data": {
      "text/plain": [
       "6"
      ]
     },
     "execution_count": 14,
     "metadata": {},
     "output_type": "execute_result"
    }
   ],
   "source": [
    "length(orb)"
   ]
  }
 ],
 "metadata": {
  "@webio": {
   "lastCommId": "a9fe644675f74cf680928d43bb9b3cd9",
   "lastKernelId": "8ba3c6ef-baca-4958-b959-8c7c4614748b"
  },
  "kernelspec": {
   "display_name": "Julia 1.1.0",
   "language": "julia",
   "name": "julia-1.1"
  },
  "language_info": {
   "file_extension": ".jl",
   "mimetype": "application/julia",
   "name": "julia",
   "version": "1.1.0"
  }
 },
 "nbformat": 4,
 "nbformat_minor": 2
}
