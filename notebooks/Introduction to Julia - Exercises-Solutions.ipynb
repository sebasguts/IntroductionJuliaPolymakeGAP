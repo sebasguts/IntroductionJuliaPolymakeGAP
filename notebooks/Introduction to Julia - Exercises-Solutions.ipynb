{
 "cells": [
  {
   "cell_type": "markdown",
   "metadata": {},
   "source": [
    "# Exercise: Permutations\n",
    "Please consider the following struct that defines a permuation."
   ]
  },
  {
   "cell_type": "code",
   "execution_count": 1,
   "metadata": {},
   "outputs": [],
   "source": [
    "struct Permutation\n",
    "    images::Array{Int64,1}\n",
    "end"
   ]
  },
  {
   "cell_type": "code",
   "execution_count": 2,
   "metadata": {},
   "outputs": [
    {
     "data": {
      "text/plain": [
       "one (generic function with 1 method)"
      ]
     },
     "execution_count": 2,
     "metadata": {},
     "output_type": "execute_result"
    }
   ],
   "source": [
    "one(::Permutation)=Permutation([1])"
   ]
  },
  {
   "cell_type": "markdown",
   "metadata": {},
   "source": [
    "## Exercise 1\n",
    "\n",
    "Fill in the stubs below to write a function to multiply two permutations. You can assume that the images-array in the `Permutation` is never empty, and that permutations are applied from the right, i.e., we have\n",
    "$$(1,2)(2,3)=(1,3,2)$$"
   ]
  },
  {
   "cell_type": "code",
   "execution_count": 3,
   "metadata": {},
   "outputs": [
    {
     "data": {
      "text/plain": [
       "* (generic function with 1 method)"
      ]
     },
     "execution_count": 3,
     "metadata": {},
     "output_type": "execute_result"
    }
   ],
   "source": [
    "function *(x::Permutation,y::Permutation)\n",
    "    len = max(length(x.images),length(y.images))\n",
    "    result = Permutation([ i for i in 1:len ])\n",
    "    for i in 1:len\n",
    "        j = i\n",
    "        if j <= length(x.images)\n",
    "            j = x.images[j]\n",
    "        end\n",
    "        if j <= length(y.images)\n",
    "            j = y.images[j]\n",
    "        end\n",
    "        result.images[i] = j\n",
    "    end\n",
    "    return result\n",
    "end"
   ]
  },
  {
   "cell_type": "markdown",
   "metadata": {},
   "source": [
    "Now test your function using this input and compare to the example above"
   ]
  },
  {
   "cell_type": "code",
   "execution_count": 4,
   "metadata": {},
   "outputs": [
    {
     "data": {
      "text/plain": [
       "Permutation([3, 1, 2])"
      ]
     },
     "execution_count": 4,
     "metadata": {},
     "output_type": "execute_result"
    }
   ],
   "source": [
    "Permutation([2,1])*Permutation([1,3,2])"
   ]
  },
  {
   "cell_type": "markdown",
   "metadata": {},
   "source": [
    "## Exercise 2\n",
    "\n",
    "Write a function `apply` that applies a `Permutation` to an `Int64`. Make sure that the function has the right types."
   ]
  },
  {
   "cell_type": "code",
   "execution_count": 5,
   "metadata": {},
   "outputs": [
    {
     "data": {
      "text/plain": [
       "apply (generic function with 1 method)"
      ]
     },
     "execution_count": 5,
     "metadata": {},
     "output_type": "execute_result"
    }
   ],
   "source": [
    "function apply(x::Int64,y::Permutation)\n",
    "    if length(y.images) < x\n",
    "        return x\n",
    "    end\n",
    "    return y.images[x]\n",
    "end"
   ]
  },
  {
   "cell_type": "markdown",
   "metadata": {},
   "source": [
    "Now test your function"
   ]
  },
  {
   "cell_type": "code",
   "execution_count": 6,
   "metadata": {},
   "outputs": [
    {
     "name": "stdout",
     "output_type": "stream",
     "text": [
      "true\n",
      "true\n",
      "true\n"
     ]
    }
   ],
   "source": [
    "p = Permutation([2,3,4,5,1])\n",
    "println(apply(1,p) == 2)\n",
    "println(apply(5,p) == 1)\n",
    "println(apply(7,p) == 7)"
   ]
  },
  {
   "cell_type": "markdown",
   "metadata": {},
   "source": [
    "## Exercise 3\n",
    "\n",
    "Fill in the stub below and write a (primitve) orbit algorithm, that computes the orbit of an integer under a group given by a list of permutations, using the apply function. Also produce some suitable tests for your algorithm."
   ]
  },
  {
   "cell_type": "code",
   "execution_count": 7,
   "metadata": {},
   "outputs": [
    {
     "data": {
      "text/plain": [
       "orbit (generic function with 1 method)"
      ]
     },
     "execution_count": 7,
     "metadata": {},
     "output_type": "execute_result"
    }
   ],
   "source": [
    "function orbit(x,gens::Array{Permutation,1})\n",
    "    work = [x]\n",
    "    results = []\n",
    "    while length(work) != 0\n",
    "        current = pop!(work)\n",
    "        for perm in gens\n",
    "            current_res = apply(current,perm)\n",
    "            if ! (current_res in results)\n",
    "                push!(results, current_res)\n",
    "                push!(work, current_res)\n",
    "            end\n",
    "        end\n",
    "    end\n",
    "    return results\n",
    "end"
   ]
  },
  {
   "cell_type": "code",
   "execution_count": 8,
   "metadata": {},
   "outputs": [
    {
     "data": {
      "text/plain": [
       "2-element Array{Permutation,1}:\n",
       " Permutation([2, 1])      \n",
       " Permutation([1, 2, 4, 3])"
      ]
     },
     "execution_count": 8,
     "metadata": {},
     "output_type": "execute_result"
    }
   ],
   "source": [
    "C3 = [ Permutation( [2,3,1] ) ]\n",
    "C2xC2 = [ Permutation( [2,1] ), Permutation( [ 1,2,4,3 ] ) ]"
   ]
  },
  {
   "cell_type": "code",
   "execution_count": 9,
   "metadata": {},
   "outputs": [
    {
     "data": {
      "text/plain": [
       "3-element Array{Any,1}:\n",
       " 2\n",
       " 3\n",
       " 1"
      ]
     },
     "execution_count": 9,
     "metadata": {},
     "output_type": "execute_result"
    }
   ],
   "source": [
    "orbit(1,C3)"
   ]
  },
  {
   "cell_type": "code",
   "execution_count": 10,
   "metadata": {},
   "outputs": [
    {
     "data": {
      "text/plain": [
       "2-element Array{Any,1}:\n",
       " 2\n",
       " 1"
      ]
     },
     "execution_count": 10,
     "metadata": {},
     "output_type": "execute_result"
    }
   ],
   "source": [
    "orbit(1,C2xC2)"
   ]
  },
  {
   "cell_type": "code",
   "execution_count": 11,
   "metadata": {},
   "outputs": [
    {
     "data": {
      "text/plain": [
       "2-element Array{Any,1}:\n",
       " 3\n",
       " 4"
      ]
     },
     "execution_count": 11,
     "metadata": {},
     "output_type": "execute_result"
    }
   ],
   "source": [
    "orbit(3,C2xC2)"
   ]
  },
  {
   "cell_type": "markdown",
   "metadata": {},
   "source": [
    "## Exercise 4\n",
    "\n",
    "Write another `apply` function that entry-wise applies a permutation to a tuple. Check if your orbit algorithm also works with it."
   ]
  },
  {
   "cell_type": "code",
   "execution_count": 12,
   "metadata": {},
   "outputs": [
    {
     "data": {
      "text/plain": [
       "apply (generic function with 2 methods)"
      ]
     },
     "execution_count": 12,
     "metadata": {},
     "output_type": "execute_result"
    }
   ],
   "source": [
    "function apply(x::Tuple,y::Permutation)\n",
    "    return Tuple(apply(i,y) for i in x)\n",
    "end"
   ]
  },
  {
   "cell_type": "code",
   "execution_count": 13,
   "metadata": {},
   "outputs": [
    {
     "data": {
      "text/plain": [
       "(2, 3)"
      ]
     },
     "execution_count": 13,
     "metadata": {},
     "output_type": "execute_result"
    }
   ],
   "source": [
    "apply((1,2),C3[1])"
   ]
  },
  {
   "cell_type": "code",
   "execution_count": 14,
   "metadata": {},
   "outputs": [
    {
     "data": {
      "text/plain": [
       "3-element Array{Any,1}:\n",
       " (2, 3)\n",
       " (3, 1)\n",
       " (1, 2)"
      ]
     },
     "execution_count": 14,
     "metadata": {},
     "output_type": "execute_result"
    }
   ],
   "source": [
    "orbit((1,2),C3)"
   ]
  },
  {
   "cell_type": "markdown",
   "metadata": {},
   "source": [
    "## Exercise 5\n",
    "\n",
    "Improve your orbit algorithm (if you did not do it already):\n",
    "* Use a single list instead of two for processing elements in the orbit\n",
    "* Use a `Dict` to store already computed elements, to make searching for them easier\n",
    "* Use a templated type for `orbit` to have the output array match the input type."
   ]
  },
  {
   "cell_type": "code",
   "execution_count": null,
   "metadata": {},
   "outputs": [],
   "source": []
  }
 ],
 "metadata": {
  "@webio": {
   "lastCommId": "009bf2d7fc994b6d8b69dd80b54634b3",
   "lastKernelId": "d7b4bf87-61a1-4cde-a1af-a7161dfb7ee4"
  },
  "kernelspec": {
   "display_name": "Julia 1.1.0",
   "language": "julia",
   "name": "julia-1.1"
  },
  "language_info": {
   "file_extension": ".jl",
   "mimetype": "application/julia",
   "name": "julia",
   "version": "1.1.0"
  }
 },
 "nbformat": 4,
 "nbformat_minor": 2
}
