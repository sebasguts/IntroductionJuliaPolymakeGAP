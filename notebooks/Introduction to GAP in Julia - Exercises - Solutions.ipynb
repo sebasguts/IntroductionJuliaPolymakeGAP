{
 "cells": [
  {
   "cell_type": "markdown",
   "metadata": {},
   "source": [
    "# Introduction to GAP in Julia - Exercises"
   ]
  },
  {
   "cell_type": "code",
   "execution_count": 1,
   "metadata": {},
   "outputs": [
    {
     "name": "stdout",
     "output_type": "stream",
     "text": [
      "Adding path /home/sebastian/Software/GAPJulia/gap/.libs to DL_LOAD_PATH\n",
      " ┌───────┐   GAP 4.dev of today\n",
      " │  GAP  │   https://www.gap-system.org\n",
      " └───────┘   Architecture: x86_64-pc-linux-gnu-julia64-kv6\n",
      " Configuration:  gmp 6.1.2, Julia GC, Julia 1.1.0, readline\n",
      " Loading the library and packages ...\n",
      " Packages:   GAPDoc 1.6.1, PrimGrp 3.3.1, SmallGrp 1.3, TransGrp 2.0.4\n",
      " Try '??help' for help. See also '?copyright', '?cite' and '?authors'\n"
     ]
    }
   ],
   "source": [
    "using GAP"
   ]
  },
  {
   "cell_type": "markdown",
   "metadata": {},
   "source": [
    "In this exercise sheet, we will explore how to work with GAP groups from Julia"
   ]
  },
  {
   "cell_type": "markdown",
   "metadata": {},
   "source": [
    "## Exercise 1: Computing Orbits\n",
    "\n",
    "We want to compute the orbits of $S_5$ operating on tuples of integers smaller or equal to 5 of length 4. Use the tuple operation and the GAP `Orbits` command."
   ]
  },
  {
   "cell_type": "markdown",
   "metadata": {},
   "source": [
    "First, we prepare the input"
   ]
  },
  {
   "cell_type": "code",
   "execution_count": 2,
   "metadata": {},
   "outputs": [],
   "source": [
    "action(tuple,perm) = Tuple( i^perm for i in tuple )\n",
    "len = 5\n",
    "grp = GAP.Globals.SymmetricGroup(len)\n",
    "input = reshape( [ tuple(i,j,k,l) for i=1:len, j=1:len, k=1:len, l=1:len ], len^4 );\n",
    "gap_input = GAP.julia_to_gap( input );"
   ]
  },
  {
   "cell_type": "markdown",
   "metadata": {},
   "source": [
    "Now, we compute the orbits and look at the output"
   ]
  },
  {
   "cell_type": "code",
   "execution_count": 3,
   "metadata": {},
   "outputs": [],
   "source": [
    "gap_orbs = GAP.Globals.Orbits(grp,gap_input,GAP.julia_to_gap(action));"
   ]
  },
  {
   "cell_type": "code",
   "execution_count": 4,
   "metadata": {},
   "outputs": [
    {
     "data": {
      "text/plain": [
       "15"
      ]
     },
     "execution_count": 4,
     "metadata": {},
     "output_type": "execute_result"
    }
   ],
   "source": [
    "length(gap_orbs)"
   ]
  },
  {
   "cell_type": "code",
   "execution_count": 5,
   "metadata": {},
   "outputs": [
    {
     "data": {
      "text/plain": [
       "15-element Array{NTuple{4,Int64},1}:\n",
       " (1, 1, 1, 1)\n",
       " (2, 1, 1, 1)\n",
       " (1, 2, 1, 1)\n",
       " (2, 2, 1, 1)\n",
       " (3, 2, 1, 1)\n",
       " (1, 1, 2, 1)\n",
       " (2, 1, 2, 1)\n",
       " (3, 1, 2, 1)\n",
       " (1, 2, 2, 1)\n",
       " (2, 2, 2, 1)\n",
       " (3, 2, 2, 1)\n",
       " (1, 3, 2, 1)\n",
       " (2, 3, 2, 1)\n",
       " (3, 3, 2, 1)\n",
       " (4, 3, 2, 1)"
      ]
     },
     "execution_count": 5,
     "metadata": {},
     "output_type": "execute_result"
    }
   ],
   "source": [
    "[ gap_orbs[i][1] for i in 1:length(gap_orbs) ]"
   ]
  },
  {
   "cell_type": "markdown",
   "metadata": {},
   "source": [
    "## Exercise 2: Operating on matrices\n",
    "\n",
    "Write a function `oper(mat::Array{Int64,2},perm::GAP.MPtr)` that operates on the matrix `mat` by permuting the columns"
   ]
  },
  {
   "cell_type": "code",
   "execution_count": 6,
   "metadata": {},
   "outputs": [
    {
     "data": {
      "text/plain": [
       "oper (generic function with 1 method)"
      ]
     },
     "execution_count": 6,
     "metadata": {},
     "output_type": "execute_result"
    }
   ],
   "source": [
    "function oper(mat::Array{Int64,2},perm::GAP.MPtr)\n",
    "    new_mat = copy(mat)\n",
    "    for i in 1:size(mat)[2]\n",
    "        new_mat[:,i^perm] = mat[:,i]\n",
    "    end\n",
    "    return new_mat\n",
    "end"
   ]
  },
  {
   "cell_type": "markdown",
   "metadata": {},
   "source": [
    "Please test your output using the following data"
   ]
  },
  {
   "cell_type": "code",
   "execution_count": 7,
   "metadata": {},
   "outputs": [
    {
     "data": {
      "text/plain": [
       "true"
      ]
     },
     "execution_count": 7,
     "metadata": {},
     "output_type": "execute_result"
    }
   ],
   "source": [
    "perm = GAP.Globals.PermList(GAP.julia_to_gap([2,3,4,1]))\n",
    "mat = [ 1 2 3 4 ; 4 3 2 1 ]\n",
    "oper(mat,perm) == [ 4 1 2 3 ; 1 4 3 2]"
   ]
  },
  {
   "cell_type": "markdown",
   "metadata": {},
   "source": [
    "## Exercise 3: Operating on matrices\n",
    "\n",
    "Use the function `oper` to compute the orbit of the matrix `[1 2 1 2; 1 3 1 4]` under $S_4$, $A_4$, and $C_4$"
   ]
  },
  {
   "cell_type": "code",
   "execution_count": 8,
   "metadata": {},
   "outputs": [
    {
     "data": {
      "text/plain": [
       "2×4 Array{Int64,2}:\n",
       " 1  2  1  2\n",
       " 1  3  1  4"
      ]
     },
     "execution_count": 8,
     "metadata": {},
     "output_type": "execute_result"
    }
   ],
   "source": [
    "mat = [1 2 1 2; 1 3 1 4]"
   ]
  },
  {
   "cell_type": "code",
   "execution_count": 9,
   "metadata": {},
   "outputs": [
    {
     "data": {
      "text/plain": [
       "GAP: [ [1 2 1 2; 1 3 1 4], [2 1 2 1; 4 1 3 1], [2 1 1 2; 3 1 1 4], [1 2 1 2; 1 4 1 3], [1 2 2 1; 1 4 3 1], [2 2 1 1; 4 3 1 1], [2 1 2 1; 3 1 4 1], [2 1 1 2; 4 1 1 3], [1 1 2 2; 1 1 4 3], [2 2 1 1; 3 4 1 1], [1 2 2 1; 1 3 4 1], [1 1 2 2; 1 1 3 4] ]"
      ]
     },
     "execution_count": 9,
     "metadata": {},
     "output_type": "execute_result"
    }
   ],
   "source": [
    "grp = GAP.Globals.SymmetricGroup(4)\n",
    "orbit = GAP.Globals.Orbit(grp,mat,GAP.julia_to_gap(oper))"
   ]
  },
  {
   "cell_type": "code",
   "execution_count": 10,
   "metadata": {},
   "outputs": [
    {
     "data": {
      "text/plain": [
       "GAP: [ [1 2 1 2; 1 3 1 4], [1 1 2 2; 1 1 3 4], [1 2 2 1; 1 4 3 1], [2 1 1 2; 3 1 1 4], [1 2 1 2; 1 4 1 3], [2 1 2 1; 3 1 4 1], [1 1 2 2; 1 1 4 3], [2 2 1 1; 3 4 1 1], [1 2 2 1; 1 3 4 1], [2 2 1 1; 4 3 1 1], [2 1 1 2; 4 1 1 3], [2 1 2 1; 4 1 3 1] ]"
      ]
     },
     "execution_count": 10,
     "metadata": {},
     "output_type": "execute_result"
    }
   ],
   "source": [
    "grp = GAP.Globals.AlternatingGroup(4)\n",
    "orbit = GAP.Globals.Orbit(grp,mat,GAP.julia_to_gap(oper))"
   ]
  },
  {
   "cell_type": "code",
   "execution_count": 18,
   "metadata": {},
   "outputs": [
    {
     "data": {
      "text/plain": [
       "GAP: [ [1 2 1 2; 1 3 1 4], [2 1 2 1; 4 1 3 1], [1 2 1 2; 1 4 1 3], [2 1 2 1; 3 1 4 1] ]"
      ]
     },
     "execution_count": 18,
     "metadata": {},
     "output_type": "execute_result"
    }
   ],
   "source": [
    "grp = GAP.Globals.Group(GAP.Globals.PermList(GAP.julia_to_gap([2,3,4,1])))\n",
    "orbit = GAP.Globals.Orbit(grp,mat,GAP.julia_to_gap(oper))"
   ]
  },
  {
   "cell_type": "markdown",
   "metadata": {},
   "source": [
    "## Exercise 4: Stabilizer Chain\n",
    "\n",
    "Write a function that, given a group $G$, a list of elements $l$, and an action $\\phi$, computes the stabilizer chain of that operation, i.e., a list\n",
    "$$G_{l_1} \\geq G_{l_1,l_2} \\geq ...$$"
   ]
  },
  {
   "cell_type": "code",
   "execution_count": 11,
   "metadata": {},
   "outputs": [
    {
     "data": {
      "text/plain": [
       "stab_chain (generic function with 1 method)"
      ]
     },
     "execution_count": 11,
     "metadata": {},
     "output_type": "execute_result"
    }
   ],
   "source": [
    "function stab_chain(grp, list, action)\n",
    "    stabs = []\n",
    "    current_stab = grp\n",
    "    for i in list\n",
    "        current_stab = GAP.Globals.Stabilizer(current_stab,i,GAP.gap_to_julia(action))\n",
    "        push!(stabs, current_stab)\n",
    "    end\n",
    "    return stabs\n",
    "end"
   ]
  },
  {
   "cell_type": "markdown",
   "metadata": {},
   "source": [
    "Test your function with the following input"
   ]
  },
  {
   "cell_type": "code",
   "execution_count": 12,
   "metadata": {},
   "outputs": [
    {
     "data": {
      "text/plain": [
       "5-element Array{Int64,1}:\n",
       " 1\n",
       " 2\n",
       " 3\n",
       " 4\n",
       " 5"
      ]
     },
     "execution_count": 12,
     "metadata": {},
     "output_type": "execute_result"
    }
   ],
   "source": [
    "oper2(i,perm) = i^perm\n",
    "grp = GAP.Globals.SymmetricGroup(5)\n",
    "list = [1,2,3,4,5]"
   ]
  },
  {
   "cell_type": "code",
   "execution_count": 13,
   "metadata": {},
   "outputs": [
    {
     "data": {
      "text/plain": [
       "5-element Array{Any,1}:\n",
       " GAP: SymmetricGroup( [ 2 .. 5 ] )\n",
       " GAP: SymmetricGroup( [ 3 .. 5 ] )\n",
       " GAP: SymmetricGroup( [ 4 .. 5 ] )\n",
       " GAP: Group( () )                 \n",
       " GAP: Group( () )                 "
      ]
     },
     "execution_count": 13,
     "metadata": {},
     "output_type": "execute_result"
    }
   ],
   "source": [
    "stab_chain(grp,list,oper2)"
   ]
  }
 ],
 "metadata": {
  "@webio": {
   "lastCommId": "e7e5e7b3dcee4b4b8cc934fa44bf94e4",
   "lastKernelId": "494e2959-e543-40e9-b27b-c9382ffd496e"
  },
  "kernelspec": {
   "display_name": "Julia 1.1.0",
   "language": "julia",
   "name": "julia-1.1"
  },
  "language_info": {
   "file_extension": ".jl",
   "mimetype": "application/julia",
   "name": "julia",
   "version": "1.1.0"
  }
 },
 "nbformat": 4,
 "nbformat_minor": 2
}
